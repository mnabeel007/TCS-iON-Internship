{
 "cells": [
  {
   "cell_type": "markdown",
   "metadata": {},
   "source": [
    "# IMPORTING MODULES"
   ]
  },
  {
   "cell_type": "code",
   "execution_count": 2,
   "metadata": {},
   "outputs": [],
   "source": [
    "import pandas as pd\n",
    "import numpy as np\n",
    "import matplotlib.pyplot as plt\n",
    "import seaborn as sns\n",
    "import warnings\n",
    "warnings.filterwarnings('ignore')"
   ]
  },
  {
   "cell_type": "markdown",
   "metadata": {},
   "source": [
    "# LOADING THE DATASET"
   ]
  },
  {
   "cell_type": "code",
   "execution_count": 3,
   "metadata": {},
   "outputs": [],
   "source": [
    "df=data=pd.read_csv(r'Dataset\\drugdataWithRace.csv')"
   ]
  },
  {
   "cell_type": "code",
   "execution_count": 4,
   "metadata": {},
   "outputs": [
    {
     "data": {
      "text/html": [
       "<div>\n",
       "<style scoped>\n",
       "    .dataframe tbody tr th:only-of-type {\n",
       "        vertical-align: middle;\n",
       "    }\n",
       "\n",
       "    .dataframe tbody tr th {\n",
       "        vertical-align: top;\n",
       "    }\n",
       "\n",
       "    .dataframe thead th {\n",
       "        text-align: right;\n",
       "    }\n",
       "</style>\n",
       "<table border=\"1\" class=\"dataframe\">\n",
       "  <thead>\n",
       "    <tr style=\"text-align: right;\">\n",
       "      <th></th>\n",
       "      <th>Name</th>\n",
       "      <th>Age</th>\n",
       "      <th>Condition</th>\n",
       "      <th>Date</th>\n",
       "      <th>Drug</th>\n",
       "      <th>DrugId</th>\n",
       "      <th>EaseofUse</th>\n",
       "      <th>Effectiveness</th>\n",
       "      <th>Reviews</th>\n",
       "      <th>Satisfaction</th>\n",
       "      <th>Sides</th>\n",
       "      <th>UsefulCount</th>\n",
       "      <th>Sex</th>\n",
       "      <th>Race</th>\n",
       "    </tr>\n",
       "  </thead>\n",
       "  <tbody>\n",
       "    <tr>\n",
       "      <th>0</th>\n",
       "      <td>Adelaide</td>\n",
       "      <td>75 or over</td>\n",
       "      <td>Stuffy Nose</td>\n",
       "      <td>9/21/2014</td>\n",
       "      <td>25dph-7.5peh</td>\n",
       "      <td>146724</td>\n",
       "      <td>5</td>\n",
       "      <td>5</td>\n",
       "      <td>I'm a retired physician and of all the meds I ...</td>\n",
       "      <td>5</td>\n",
       "      <td>Drowsiness,  dizziness ,  dry mouth /nose/thro...</td>\n",
       "      <td>0</td>\n",
       "      <td>F</td>\n",
       "      <td>Australoid</td>\n",
       "    </tr>\n",
       "    <tr>\n",
       "      <th>1</th>\n",
       "      <td>Adelaide</td>\n",
       "      <td>25-34</td>\n",
       "      <td>Cold Symptoms</td>\n",
       "      <td>1/13/2011</td>\n",
       "      <td>25dph-7.5peh</td>\n",
       "      <td>146724</td>\n",
       "      <td>5</td>\n",
       "      <td>5</td>\n",
       "      <td>cleared me right up even with my throat hurtin...</td>\n",
       "      <td>5</td>\n",
       "      <td>Drowsiness,  dizziness ,  dry mouth /nose/thro...</td>\n",
       "      <td>1</td>\n",
       "      <td>F</td>\n",
       "      <td>Mongoloid</td>\n",
       "    </tr>\n",
       "    <tr>\n",
       "      <th>2</th>\n",
       "      <td>Adelaide</td>\n",
       "      <td>65-74</td>\n",
       "      <td>Other</td>\n",
       "      <td>7/16/2012</td>\n",
       "      <td>warfarin (bulk) 100 % powder</td>\n",
       "      <td>144731</td>\n",
       "      <td>2</td>\n",
       "      <td>3</td>\n",
       "      <td>why did my PTINR go from a normal of 2.5 to ov...</td>\n",
       "      <td>3</td>\n",
       "      <td></td>\n",
       "      <td>0</td>\n",
       "      <td>F</td>\n",
       "      <td>Negroid</td>\n",
       "    </tr>\n",
       "    <tr>\n",
       "      <th>3</th>\n",
       "      <td>Adelaide</td>\n",
       "      <td>75 or over</td>\n",
       "      <td>Other</td>\n",
       "      <td>9/23/2010</td>\n",
       "      <td>warfarin (bulk) 100 % powder</td>\n",
       "      <td>144731</td>\n",
       "      <td>2</td>\n",
       "      <td>2</td>\n",
       "      <td>FALLING AND DON'T REALISE IT</td>\n",
       "      <td>1</td>\n",
       "      <td></td>\n",
       "      <td>0</td>\n",
       "      <td>F</td>\n",
       "      <td>Caucasoid</td>\n",
       "    </tr>\n",
       "    <tr>\n",
       "      <th>4</th>\n",
       "      <td>Adelaide</td>\n",
       "      <td>35-44</td>\n",
       "      <td>Other</td>\n",
       "      <td>01-06-2009</td>\n",
       "      <td>warfarin (bulk) 100 % powder</td>\n",
       "      <td>144731</td>\n",
       "      <td>1</td>\n",
       "      <td>1</td>\n",
       "      <td>My grandfather was prescribed this medication ...</td>\n",
       "      <td>1</td>\n",
       "      <td></td>\n",
       "      <td>1</td>\n",
       "      <td>F</td>\n",
       "      <td>Australoid</td>\n",
       "    </tr>\n",
       "  </tbody>\n",
       "</table>\n",
       "</div>"
      ],
      "text/plain": [
       "       Name         Age      Condition        Date  \\\n",
       "0  Adelaide  75 or over    Stuffy Nose   9/21/2014   \n",
       "1  Adelaide       25-34  Cold Symptoms   1/13/2011   \n",
       "2  Adelaide       65-74          Other   7/16/2012   \n",
       "3  Adelaide  75 or over          Other   9/23/2010   \n",
       "4  Adelaide       35-44          Other  01-06-2009   \n",
       "\n",
       "                           Drug  DrugId  EaseofUse  Effectiveness  \\\n",
       "0                  25dph-7.5peh  146724          5              5   \n",
       "1                  25dph-7.5peh  146724          5              5   \n",
       "2  warfarin (bulk) 100 % powder  144731          2              3   \n",
       "3  warfarin (bulk) 100 % powder  144731          2              2   \n",
       "4  warfarin (bulk) 100 % powder  144731          1              1   \n",
       "\n",
       "                                             Reviews  Satisfaction  \\\n",
       "0  I'm a retired physician and of all the meds I ...             5   \n",
       "1  cleared me right up even with my throat hurtin...             5   \n",
       "2  why did my PTINR go from a normal of 2.5 to ov...             3   \n",
       "3                       FALLING AND DON'T REALISE IT             1   \n",
       "4  My grandfather was prescribed this medication ...             1   \n",
       "\n",
       "                                               Sides  UsefulCount Sex  \\\n",
       "0  Drowsiness,  dizziness ,  dry mouth /nose/thro...            0   F   \n",
       "1  Drowsiness,  dizziness ,  dry mouth /nose/thro...            1   F   \n",
       "2                                                               0   F   \n",
       "3                                                               0   F   \n",
       "4                                                               1   F   \n",
       "\n",
       "         Race  \n",
       "0  Australoid  \n",
       "1   Mongoloid  \n",
       "2     Negroid  \n",
       "3   Caucasoid  \n",
       "4  Australoid  "
      ]
     },
     "execution_count": 4,
     "metadata": {},
     "output_type": "execute_result"
    }
   ],
   "source": [
    "data.head()"
   ]
  },
  {
   "cell_type": "code",
   "execution_count": 98,
   "metadata": {},
   "outputs": [
    {
     "data": {
      "text/html": [
       "<div>\n",
       "<style scoped>\n",
       "    .dataframe tbody tr th:only-of-type {\n",
       "        vertical-align: middle;\n",
       "    }\n",
       "\n",
       "    .dataframe tbody tr th {\n",
       "        vertical-align: top;\n",
       "    }\n",
       "\n",
       "    .dataframe thead th {\n",
       "        text-align: right;\n",
       "    }\n",
       "</style>\n",
       "<table border=\"1\" class=\"dataframe\">\n",
       "  <thead>\n",
       "    <tr style=\"text-align: right;\">\n",
       "      <th></th>\n",
       "      <th>Name</th>\n",
       "      <th>Age</th>\n",
       "      <th>Condition</th>\n",
       "      <th>Date</th>\n",
       "      <th>Drug</th>\n",
       "      <th>DrugId</th>\n",
       "      <th>EaseofUse</th>\n",
       "      <th>Effectiveness</th>\n",
       "      <th>Reviews</th>\n",
       "      <th>Satisfaction</th>\n",
       "      <th>Sides</th>\n",
       "      <th>UsefulCount</th>\n",
       "      <th>Sex</th>\n",
       "      <th>Race</th>\n",
       "    </tr>\n",
       "  </thead>\n",
       "  <tbody>\n",
       "    <tr>\n",
       "      <th>362801</th>\n",
       "      <td>Eloi</td>\n",
       "      <td>55-64</td>\n",
       "      <td>Stop Smoking</td>\n",
       "      <td>11/14/2008</td>\n",
       "      <td>chantix</td>\n",
       "      <td>144470</td>\n",
       "      <td>5</td>\n",
       "      <td>5</td>\n",
       "      <td>I took the whole 12 weeks.I could have stopped...</td>\n",
       "      <td>5</td>\n",
       "      <td>Nausea ,  headache ,  vomiting , drowsiness, g...</td>\n",
       "      <td>2</td>\n",
       "      <td>M</td>\n",
       "      <td>Caucasoid</td>\n",
       "    </tr>\n",
       "    <tr>\n",
       "      <th>362802</th>\n",
       "      <td>Elysee</td>\n",
       "      <td></td>\n",
       "      <td>Other</td>\n",
       "      <td>11/14/2008</td>\n",
       "      <td>chantix</td>\n",
       "      <td>144470</td>\n",
       "      <td>2</td>\n",
       "      <td>3</td>\n",
       "      <td>My dad strated taking Chantix about 1 month ag...</td>\n",
       "      <td>1</td>\n",
       "      <td>Nausea ,  headache ,  vomiting , drowsiness, g...</td>\n",
       "      <td>16</td>\n",
       "      <td>M</td>\n",
       "      <td>Caucasoid</td>\n",
       "    </tr>\n",
       "    <tr>\n",
       "      <th>362803</th>\n",
       "      <td>Emile</td>\n",
       "      <td>25-34</td>\n",
       "      <td>Stop Smoking</td>\n",
       "      <td>11/13/2008</td>\n",
       "      <td>chantix</td>\n",
       "      <td>144470</td>\n",
       "      <td>2</td>\n",
       "      <td>4</td>\n",
       "      <td>As long as I was on chantix, I didn't smoke.  ...</td>\n",
       "      <td>2</td>\n",
       "      <td>Nausea ,  headache ,  vomiting , drowsiness, g...</td>\n",
       "      <td>3</td>\n",
       "      <td>M</td>\n",
       "      <td>Negroid</td>\n",
       "    </tr>\n",
       "    <tr>\n",
       "      <th>362804</th>\n",
       "      <td>Emile</td>\n",
       "      <td>55-64</td>\n",
       "      <td>Stop Smoking</td>\n",
       "      <td>11/13/2008</td>\n",
       "      <td>chantix</td>\n",
       "      <td>144470</td>\n",
       "      <td>5</td>\n",
       "      <td>5</td>\n",
       "      <td>Started this medication Oct 5th 2008. Haven't ...</td>\n",
       "      <td>5</td>\n",
       "      <td>Nausea ,  headache ,  vomiting , drowsiness, g...</td>\n",
       "      <td>1</td>\n",
       "      <td>M</td>\n",
       "      <td>Caucasoid</td>\n",
       "    </tr>\n",
       "    <tr>\n",
       "      <th>362805</th>\n",
       "      <td>Emile</td>\n",
       "      <td>45-54</td>\n",
       "      <td>Stop Smoking</td>\n",
       "      <td>11-12-2008</td>\n",
       "      <td>chantix</td>\n",
       "      <td>144470</td>\n",
       "      <td>4</td>\n",
       "      <td>5</td>\n",
       "      <td>One year ago, I tried Chantix and had to stop ...</td>\n",
       "      <td>5</td>\n",
       "      <td>Nausea ,  headache ,  vomiting , drowsiness, g...</td>\n",
       "      <td>3</td>\n",
       "      <td>M</td>\n",
       "      <td>Capoid</td>\n",
       "    </tr>\n",
       "  </tbody>\n",
       "</table>\n",
       "</div>"
      ],
      "text/plain": [
       "          Name    Age     Condition        Date     Drug  DrugId  EaseofUse  \\\n",
       "362801    Eloi  55-64  Stop Smoking  11/14/2008  chantix  144470          5   \n",
       "362802  Elysee                Other  11/14/2008  chantix  144470          2   \n",
       "362803   Emile  25-34  Stop Smoking  11/13/2008  chantix  144470          2   \n",
       "362804   Emile  55-64  Stop Smoking  11/13/2008  chantix  144470          5   \n",
       "362805   Emile  45-54  Stop Smoking  11-12-2008  chantix  144470          4   \n",
       "\n",
       "        Effectiveness                                            Reviews  \\\n",
       "362801              5  I took the whole 12 weeks.I could have stopped...   \n",
       "362802              3  My dad strated taking Chantix about 1 month ag...   \n",
       "362803              4  As long as I was on chantix, I didn't smoke.  ...   \n",
       "362804              5  Started this medication Oct 5th 2008. Haven't ...   \n",
       "362805              5  One year ago, I tried Chantix and had to stop ...   \n",
       "\n",
       "        Satisfaction                                              Sides  \\\n",
       "362801             5  Nausea ,  headache ,  vomiting , drowsiness, g...   \n",
       "362802             1  Nausea ,  headache ,  vomiting , drowsiness, g...   \n",
       "362803             2  Nausea ,  headache ,  vomiting , drowsiness, g...   \n",
       "362804             5  Nausea ,  headache ,  vomiting , drowsiness, g...   \n",
       "362805             5  Nausea ,  headache ,  vomiting , drowsiness, g...   \n",
       "\n",
       "        UsefulCount Sex       Race  \n",
       "362801            2   M  Caucasoid  \n",
       "362802           16   M  Caucasoid  \n",
       "362803            3   M    Negroid  \n",
       "362804            1   M  Caucasoid  \n",
       "362805            3   M     Capoid  "
      ]
     },
     "execution_count": 98,
     "metadata": {},
     "output_type": "execute_result"
    }
   ],
   "source": [
    "data.tail()"
   ]
  },
  {
   "cell_type": "code",
   "execution_count": 99,
   "metadata": {},
   "outputs": [
    {
     "data": {
      "text/html": [
       "<div>\n",
       "<style scoped>\n",
       "    .dataframe tbody tr th:only-of-type {\n",
       "        vertical-align: middle;\n",
       "    }\n",
       "\n",
       "    .dataframe tbody tr th {\n",
       "        vertical-align: top;\n",
       "    }\n",
       "\n",
       "    .dataframe thead th {\n",
       "        text-align: right;\n",
       "    }\n",
       "</style>\n",
       "<table border=\"1\" class=\"dataframe\">\n",
       "  <thead>\n",
       "    <tr style=\"text-align: right;\">\n",
       "      <th></th>\n",
       "      <th>Name</th>\n",
       "      <th>Age</th>\n",
       "      <th>Condition</th>\n",
       "      <th>Date</th>\n",
       "      <th>Drug</th>\n",
       "      <th>DrugId</th>\n",
       "      <th>EaseofUse</th>\n",
       "      <th>Effectiveness</th>\n",
       "      <th>Reviews</th>\n",
       "      <th>Satisfaction</th>\n",
       "      <th>Sides</th>\n",
       "      <th>UsefulCount</th>\n",
       "      <th>Sex</th>\n",
       "      <th>Race</th>\n",
       "    </tr>\n",
       "  </thead>\n",
       "  <tbody>\n",
       "    <tr>\n",
       "      <th>362801</th>\n",
       "      <td>Eloi</td>\n",
       "      <td>55-64</td>\n",
       "      <td>Stop Smoking</td>\n",
       "      <td>11/14/2008</td>\n",
       "      <td>chantix</td>\n",
       "      <td>144470</td>\n",
       "      <td>5</td>\n",
       "      <td>5</td>\n",
       "      <td>I took the whole 12 weeks.I could have stopped...</td>\n",
       "      <td>5</td>\n",
       "      <td>Nausea ,  headache ,  vomiting , drowsiness, g...</td>\n",
       "      <td>2</td>\n",
       "      <td>M</td>\n",
       "      <td>Caucasoid</td>\n",
       "    </tr>\n",
       "    <tr>\n",
       "      <th>362802</th>\n",
       "      <td>Elysee</td>\n",
       "      <td></td>\n",
       "      <td>Other</td>\n",
       "      <td>11/14/2008</td>\n",
       "      <td>chantix</td>\n",
       "      <td>144470</td>\n",
       "      <td>2</td>\n",
       "      <td>3</td>\n",
       "      <td>My dad strated taking Chantix about 1 month ag...</td>\n",
       "      <td>1</td>\n",
       "      <td>Nausea ,  headache ,  vomiting , drowsiness, g...</td>\n",
       "      <td>16</td>\n",
       "      <td>M</td>\n",
       "      <td>Caucasoid</td>\n",
       "    </tr>\n",
       "    <tr>\n",
       "      <th>362803</th>\n",
       "      <td>Emile</td>\n",
       "      <td>25-34</td>\n",
       "      <td>Stop Smoking</td>\n",
       "      <td>11/13/2008</td>\n",
       "      <td>chantix</td>\n",
       "      <td>144470</td>\n",
       "      <td>2</td>\n",
       "      <td>4</td>\n",
       "      <td>As long as I was on chantix, I didn't smoke.  ...</td>\n",
       "      <td>2</td>\n",
       "      <td>Nausea ,  headache ,  vomiting , drowsiness, g...</td>\n",
       "      <td>3</td>\n",
       "      <td>M</td>\n",
       "      <td>Negroid</td>\n",
       "    </tr>\n",
       "    <tr>\n",
       "      <th>362804</th>\n",
       "      <td>Emile</td>\n",
       "      <td>55-64</td>\n",
       "      <td>Stop Smoking</td>\n",
       "      <td>11/13/2008</td>\n",
       "      <td>chantix</td>\n",
       "      <td>144470</td>\n",
       "      <td>5</td>\n",
       "      <td>5</td>\n",
       "      <td>Started this medication Oct 5th 2008. Haven't ...</td>\n",
       "      <td>5</td>\n",
       "      <td>Nausea ,  headache ,  vomiting , drowsiness, g...</td>\n",
       "      <td>1</td>\n",
       "      <td>M</td>\n",
       "      <td>Caucasoid</td>\n",
       "    </tr>\n",
       "    <tr>\n",
       "      <th>362805</th>\n",
       "      <td>Emile</td>\n",
       "      <td>45-54</td>\n",
       "      <td>Stop Smoking</td>\n",
       "      <td>11-12-2008</td>\n",
       "      <td>chantix</td>\n",
       "      <td>144470</td>\n",
       "      <td>4</td>\n",
       "      <td>5</td>\n",
       "      <td>One year ago, I tried Chantix and had to stop ...</td>\n",
       "      <td>5</td>\n",
       "      <td>Nausea ,  headache ,  vomiting , drowsiness, g...</td>\n",
       "      <td>3</td>\n",
       "      <td>M</td>\n",
       "      <td>Capoid</td>\n",
       "    </tr>\n",
       "  </tbody>\n",
       "</table>\n",
       "</div>"
      ],
      "text/plain": [
       "          Name    Age     Condition        Date     Drug  DrugId  EaseofUse  \\\n",
       "362801    Eloi  55-64  Stop Smoking  11/14/2008  chantix  144470          5   \n",
       "362802  Elysee                Other  11/14/2008  chantix  144470          2   \n",
       "362803   Emile  25-34  Stop Smoking  11/13/2008  chantix  144470          2   \n",
       "362804   Emile  55-64  Stop Smoking  11/13/2008  chantix  144470          5   \n",
       "362805   Emile  45-54  Stop Smoking  11-12-2008  chantix  144470          4   \n",
       "\n",
       "        Effectiveness                                            Reviews  \\\n",
       "362801              5  I took the whole 12 weeks.I could have stopped...   \n",
       "362802              3  My dad strated taking Chantix about 1 month ag...   \n",
       "362803              4  As long as I was on chantix, I didn't smoke.  ...   \n",
       "362804              5  Started this medication Oct 5th 2008. Haven't ...   \n",
       "362805              5  One year ago, I tried Chantix and had to stop ...   \n",
       "\n",
       "        Satisfaction                                              Sides  \\\n",
       "362801             5  Nausea ,  headache ,  vomiting , drowsiness, g...   \n",
       "362802             1  Nausea ,  headache ,  vomiting , drowsiness, g...   \n",
       "362803             2  Nausea ,  headache ,  vomiting , drowsiness, g...   \n",
       "362804             5  Nausea ,  headache ,  vomiting , drowsiness, g...   \n",
       "362805             5  Nausea ,  headache ,  vomiting , drowsiness, g...   \n",
       "\n",
       "        UsefulCount Sex       Race  \n",
       "362801            2   M  Caucasoid  \n",
       "362802           16   M  Caucasoid  \n",
       "362803            3   M    Negroid  \n",
       "362804            1   M  Caucasoid  \n",
       "362805            3   M     Capoid  "
      ]
     },
     "execution_count": 99,
     "metadata": {},
     "output_type": "execute_result"
    }
   ],
   "source": [
    "data.tail()"
   ]
  },
  {
   "cell_type": "markdown",
   "metadata": {},
   "source": [
    "# BASIC DETAILS OF THE DATASET"
   ]
  },
  {
   "cell_type": "code",
   "execution_count": 100,
   "metadata": {},
   "outputs": [
    {
     "data": {
      "text/plain": [
       "(362806, 14)"
      ]
     },
     "execution_count": 100,
     "metadata": {},
     "output_type": "execute_result"
    }
   ],
   "source": [
    "data.shape"
   ]
  },
  {
   "cell_type": "code",
   "execution_count": 101,
   "metadata": {},
   "outputs": [
    {
     "name": "stdout",
     "output_type": "stream",
     "text": [
      "<class 'pandas.core.frame.DataFrame'>\n",
      "RangeIndex: 362806 entries, 0 to 362805\n",
      "Data columns (total 14 columns):\n",
      " #   Column         Non-Null Count   Dtype \n",
      "---  ------         --------------   ----- \n",
      " 0   Name           362806 non-null  object\n",
      " 1   Age            362805 non-null  object\n",
      " 2   Condition      362806 non-null  object\n",
      " 3   Date           362806 non-null  object\n",
      " 4   Drug           362806 non-null  object\n",
      " 5   DrugId         362806 non-null  int64 \n",
      " 6   EaseofUse      362806 non-null  int64 \n",
      " 7   Effectiveness  362806 non-null  int64 \n",
      " 8   Reviews        362769 non-null  object\n",
      " 9   Satisfaction   362806 non-null  int64 \n",
      " 10  Sides          362806 non-null  object\n",
      " 11  UsefulCount    362806 non-null  int64 \n",
      " 12  Sex            362806 non-null  object\n",
      " 13  Race           362806 non-null  object\n",
      "dtypes: int64(5), object(9)\n",
      "memory usage: 38.8+ MB\n"
     ]
    }
   ],
   "source": [
    "data.info()"
   ]
  },
  {
   "cell_type": "code",
   "execution_count": 102,
   "metadata": {},
   "outputs": [
    {
     "data": {
      "text/html": [
       "<div>\n",
       "<style scoped>\n",
       "    .dataframe tbody tr th:only-of-type {\n",
       "        vertical-align: middle;\n",
       "    }\n",
       "\n",
       "    .dataframe tbody tr th {\n",
       "        vertical-align: top;\n",
       "    }\n",
       "\n",
       "    .dataframe thead th {\n",
       "        text-align: right;\n",
       "    }\n",
       "</style>\n",
       "<table border=\"1\" class=\"dataframe\">\n",
       "  <thead>\n",
       "    <tr style=\"text-align: right;\">\n",
       "      <th></th>\n",
       "      <th>DrugId</th>\n",
       "      <th>EaseofUse</th>\n",
       "      <th>Effectiveness</th>\n",
       "      <th>Satisfaction</th>\n",
       "      <th>UsefulCount</th>\n",
       "    </tr>\n",
       "  </thead>\n",
       "  <tbody>\n",
       "    <tr>\n",
       "      <th>count</th>\n",
       "      <td>362806.000000</td>\n",
       "      <td>362806.000000</td>\n",
       "      <td>362806.000000</td>\n",
       "      <td>362806.000000</td>\n",
       "      <td>362806.000000</td>\n",
       "    </tr>\n",
       "    <tr>\n",
       "      <th>mean</th>\n",
       "      <td>36879.370774</td>\n",
       "      <td>4.019829</td>\n",
       "      <td>3.532061</td>\n",
       "      <td>3.135408</td>\n",
       "      <td>6.744916</td>\n",
       "    </tr>\n",
       "    <tr>\n",
       "      <th>std</th>\n",
       "      <td>52624.412971</td>\n",
       "      <td>1.317711</td>\n",
       "      <td>1.455961</td>\n",
       "      <td>1.611106</td>\n",
       "      <td>9.324240</td>\n",
       "    </tr>\n",
       "    <tr>\n",
       "      <th>min</th>\n",
       "      <td>1.000000</td>\n",
       "      <td>1.000000</td>\n",
       "      <td>1.000000</td>\n",
       "      <td>1.000000</td>\n",
       "      <td>0.000000</td>\n",
       "    </tr>\n",
       "    <tr>\n",
       "      <th>25%</th>\n",
       "      <td>4896.000000</td>\n",
       "      <td>3.000000</td>\n",
       "      <td>3.000000</td>\n",
       "      <td>1.000000</td>\n",
       "      <td>1.000000</td>\n",
       "    </tr>\n",
       "    <tr>\n",
       "      <th>50%</th>\n",
       "      <td>9548.000000</td>\n",
       "      <td>5.000000</td>\n",
       "      <td>4.000000</td>\n",
       "      <td>3.000000</td>\n",
       "      <td>4.000000</td>\n",
       "    </tr>\n",
       "    <tr>\n",
       "      <th>75%</th>\n",
       "      <td>63522.000000</td>\n",
       "      <td>5.000000</td>\n",
       "      <td>5.000000</td>\n",
       "      <td>5.000000</td>\n",
       "      <td>9.000000</td>\n",
       "    </tr>\n",
       "    <tr>\n",
       "      <th>max</th>\n",
       "      <td>178546.000000</td>\n",
       "      <td>10.000000</td>\n",
       "      <td>10.000000</td>\n",
       "      <td>10.000000</td>\n",
       "      <td>255.000000</td>\n",
       "    </tr>\n",
       "  </tbody>\n",
       "</table>\n",
       "</div>"
      ],
      "text/plain": [
       "              DrugId      EaseofUse  Effectiveness   Satisfaction  \\\n",
       "count  362806.000000  362806.000000  362806.000000  362806.000000   \n",
       "mean    36879.370774       4.019829       3.532061       3.135408   \n",
       "std     52624.412971       1.317711       1.455961       1.611106   \n",
       "min         1.000000       1.000000       1.000000       1.000000   \n",
       "25%      4896.000000       3.000000       3.000000       1.000000   \n",
       "50%      9548.000000       5.000000       4.000000       3.000000   \n",
       "75%     63522.000000       5.000000       5.000000       5.000000   \n",
       "max    178546.000000      10.000000      10.000000      10.000000   \n",
       "\n",
       "         UsefulCount  \n",
       "count  362806.000000  \n",
       "mean        6.744916  \n",
       "std         9.324240  \n",
       "min         0.000000  \n",
       "25%         1.000000  \n",
       "50%         4.000000  \n",
       "75%         9.000000  \n",
       "max       255.000000  "
      ]
     },
     "execution_count": 102,
     "metadata": {},
     "output_type": "execute_result"
    }
   ],
   "source": [
    "data.describe()"
   ]
  },
  {
   "cell_type": "code",
   "execution_count": 103,
   "metadata": {},
   "outputs": [
    {
     "data": {
      "text/plain": [
       "Index(['Name', 'Age', 'Condition', 'Date', 'Drug', 'DrugId', 'EaseofUse',\n",
       "       'Effectiveness', 'Reviews', 'Satisfaction', 'Sides', 'UsefulCount',\n",
       "       'Sex', 'Race'],\n",
       "      dtype='object')"
      ]
     },
     "execution_count": 103,
     "metadata": {},
     "output_type": "execute_result"
    }
   ],
   "source": [
    "data.columns"
   ]
  },
  {
   "cell_type": "code",
   "execution_count": 104,
   "metadata": {},
   "outputs": [
    {
     "name": "stdout",
     "output_type": "stream",
     "text": [
      "Variable                 Type                      Data/Info\n",
      "------------------------------------------------------------\n",
      "AS                       AxesSubplot               AxesSubplot(0.125,0.125;0.775x0.755)\n",
      "DecisionTreeClassifier   ABCMeta                   <class 'sklearn.tree._cla<...>.DecisionTreeClassifier'>\n",
      "IQR                      float64                   1.0\n",
      "KNeighborsClassifier     ABCMeta                   <class 'sklearn.neighbors<...>on.KNeighborsClassifier'>\n",
      "LabelEncoder             type                      <class 'sklearn.preproces<...>ing._label.LabelEncoder'>\n",
      "LinearSVC                type                      <class 'sklearn.svm._classes.LinearSVC'>\n",
      "LogisticRegression       type                      <class 'sklearn.linear_mo<...>stic.LogisticRegression'>\n",
      "Q1                       float64                   4.0\n",
      "Q3                       float64                   5.0\n",
      "acc                      float64                   0.519893899204244\n",
      "accuracy_score           function                  <function accuracy_score at 0x000000000E11DD30>\n",
      "ax                       AxesSubplot               AxesSubplot(0.125,0.125;0.775x0.755)\n",
      "classifier               KNeighborsClassifier      KNeighborsClassifier()\n",
      "col                      str                       Race\n",
      "confusion_matrix         function                  <function confusion_matrix at 0x000000000E11DE50>\n",
      "corrmatrix               DataFrame                                EaseofUse <...>    0.020578     1.000000\n",
      "count                    Series                    no side effects          <...>fectiveness, dtype: int64\n",
      "data                     DataFrame                             Name         <...>362806 rows x 14 columns]\n",
      "dataage1                 DataFrame                       Age         Conditi<...>         0   M  Negroid  \n",
      "dataage2                 DataFrame                         Age              <...>      6   F   Caucasoid  \n",
      "dataage3                 DataFrame                         Age              <...>n\\n[177 rows x 8 columns]\n",
      "dataage4                 DataFrame                         Age              <...>n\\n[469 rows x 8 columns]\n",
      "dataage5                 DataFrame                         Age              <...>n\\n[700 rows x 8 columns]\n",
      "dataage6                 DataFrame                         Age              <...>\\n[1065 rows x 8 columns]\n",
      "dataage7                 DataFrame                         Age              <...>n\\n[345 rows x 8 columns]\n",
      "dataage8                 DataFrame                              Age         <...>\\n\\n[87 rows x 8 columns]\n",
      "datac1                   DataFrame                         Age              <...>\\n[1510 rows x 8 columns]\n",
      "datastand                DataFrame                       Age  Condition  Eas<...>\\n[3769 rows x 8 columns]\n",
      "decision                 DecisionTreeClassifier    DecisionTreeClassifier()\n",
      "df                       DataFrame                             Name         <...>362806 rows x 14 columns]\n",
      "f1_score                 function                  <function f1_score at 0x000000000E129550>\n",
      "label                    LabelEncoder              LabelEncoder()\n",
      "list2                    list                      n=3769\n",
      "logic                    LogisticRegression        LogisticRegression()\n",
      "low                      float64                   2.5\n",
      "np                       module                    <module 'numpy' from 'C:\\<...>ges\\\\numpy\\\\__init__.py'>\n",
      "outlier                  list                      n=621\n",
      "pd                       module                    <module 'pandas' from 'C:<...>es\\\\pandas\\\\__init__.py'>\n",
      "plt                      module                    <module 'matplotlib.pyplo<...>\\\\matplotlib\\\\pyplot.py'>\n",
      "precision_score          function                  <function precision_score at 0x000000000E129A60>\n",
      "sns                      module                    <module 'seaborn' from 'C<...>s\\\\seaborn\\\\__init__.py'>\n",
      "support                  LinearSVC                 LinearSVC()\n",
      "tr                       DataFrame                                          <...>ts                      4\n",
      "tr_names                 Index                     Index(['no side effects',<...>],\\n      dtype='object')\n",
      "train_test_split         function                  <function train_test_split at 0x000000000E0FEEE0>\n",
      "upper                    float64                   6.5\n",
      "warnings                 module                    <module 'warnings' from '<...>onda3\\\\lib\\\\warnings.py'>\n",
      "x                        DataFrame                       Age  Condition  Eas<...>\\n[3769 rows x 7 columns]\n",
      "x1                       DataFrame                       Age  Condition  Eas<...>\\n[3769 rows x 7 columns]\n",
      "x2                       DataFrame                       Age  Condition  Eas<...>\\n[3769 rows x 7 columns]\n",
      "x_test                   DataFrame                       Age  Condition  Eas<...>n\\n[377 rows x 7 columns]\n",
      "x_train                  DataFrame                       Age  Condition  Eas<...>\\n[3392 rows x 7 columns]\n",
      "y                        Series                    0                   no si<...>ngth: 3769, dtype: object\n",
      "y_decision               ndarray                   377: 377 elems, type `object`, 3016 bytes\n",
      "y_logic                  ndarray                   377: 377 elems, type `object`, 3016 bytes\n",
      "y_pred                   ndarray                   377: 377 elems, type `object`, 3016 bytes\n",
      "y_support                ndarray                   377: 377 elems, type `object`, 3016 bytes\n",
      "y_test                   Series                    3539          no side eff<...>ength: 377, dtype: object\n",
      "y_train                  Series                    63                mild si<...>ngth: 3392, dtype: object\n"
     ]
    }
   ],
   "source": [
    "%whos"
   ]
  },
  {
   "cell_type": "code",
   "execution_count": 105,
   "metadata": {},
   "outputs": [
    {
     "data": {
      "text/plain": [
       "6572"
      ]
     },
     "execution_count": 105,
     "metadata": {},
     "output_type": "execute_result"
    }
   ],
   "source": [
    "data.DrugId.nunique()"
   ]
  },
  {
   "cell_type": "code",
   "execution_count": 106,
   "metadata": {},
   "outputs": [
    {
     "data": {
      "text/plain": [
       "1651"
      ]
     },
     "execution_count": 106,
     "metadata": {},
     "output_type": "execute_result"
    }
   ],
   "source": [
    "data.Sides.nunique()"
   ]
  },
  {
   "cell_type": "code",
   "execution_count": 107,
   "metadata": {},
   "outputs": [
    {
     "data": {
      "text/plain": [
       "7093"
      ]
     },
     "execution_count": 107,
     "metadata": {},
     "output_type": "execute_result"
    }
   ],
   "source": [
    "data.Drug.nunique()"
   ]
  },
  {
   "cell_type": "code",
   "execution_count": 108,
   "metadata": {},
   "outputs": [
    {
     "data": {
      "text/plain": [
       "6873      8538\n",
       "1025      7868\n",
       "6007      7728\n",
       "4398      5864\n",
       "14208     5451\n",
       "          ... \n",
       "78479        1\n",
       "14766        1\n",
       "165950       1\n",
       "8244         1\n",
       "18441        1\n",
       "Name: DrugId, Length: 6572, dtype: int64"
      ]
     },
     "execution_count": 108,
     "metadata": {},
     "output_type": "execute_result"
    }
   ],
   "source": [
    "data['DrugId'].value_counts()"
   ]
  },
  {
   "cell_type": "code",
   "execution_count": 109,
   "metadata": {
    "scrolled": true
   },
   "outputs": [
    {
     "data": {
      "text/plain": [
       "cymbalta                                           4648\n",
       "lisinopril                                         4269\n",
       "lisinopril solution                                4269\n",
       "lexapro                                            4134\n",
       "hydrocodone-acetaminophen                          3944\n",
       "                                                   ... \n",
       "mtx support                                           1\n",
       "nitazoxanide suspension for reconstitution            1\n",
       "tri-chlor solution, non-                              1\n",
       "famotidine (pf) 20 mg/2 ml intravenous solution       1\n",
       "robinul vial                                          1\n",
       "Name: Drug, Length: 7093, dtype: int64"
      ]
     },
     "execution_count": 109,
     "metadata": {},
     "output_type": "execute_result"
    }
   ],
   "source": [
    "data['Drug'].value_counts()"
   ]
  },
  {
   "cell_type": "code",
   "execution_count": 110,
   "metadata": {},
   "outputs": [
    {
     "data": {
      "text/plain": [
       "0    cymbalta\n",
       "dtype: object"
      ]
     },
     "execution_count": 110,
     "metadata": {},
     "output_type": "execute_result"
    }
   ],
   "source": [
    "data.Drug.mode()"
   ]
  },
  {
   "cell_type": "markdown",
   "metadata": {},
   "source": [
    "# Creating a new dataset from the original dataset with the DrugId=91491.The Drug ' cymbalta ' which occurs most number of times in the dataset."
   ]
  },
  {
   "cell_type": "code",
   "execution_count": 111,
   "metadata": {},
   "outputs": [],
   "source": [
    "data=data.drop(data.loc[(data['DrugId']!=91491)].index)"
   ]
  },
  {
   "cell_type": "code",
   "execution_count": 112,
   "metadata": {},
   "outputs": [
    {
     "data": {
      "text/plain": [
       "(4648, 14)"
      ]
     },
     "execution_count": 112,
     "metadata": {},
     "output_type": "execute_result"
    }
   ],
   "source": [
    "data.shape"
   ]
  },
  {
   "cell_type": "code",
   "execution_count": 113,
   "metadata": {},
   "outputs": [
    {
     "name": "stdout",
     "output_type": "stream",
     "text": [
      "<class 'pandas.core.frame.DataFrame'>\n",
      "Int64Index: 4648 entries, 314212 to 319085\n",
      "Data columns (total 14 columns):\n",
      " #   Column         Non-Null Count  Dtype \n",
      "---  ------         --------------  ----- \n",
      " 0   Name           4648 non-null   object\n",
      " 1   Age            4648 non-null   object\n",
      " 2   Condition      4648 non-null   object\n",
      " 3   Date           4648 non-null   object\n",
      " 4   Drug           4648 non-null   object\n",
      " 5   DrugId         4648 non-null   int64 \n",
      " 6   EaseofUse      4648 non-null   int64 \n",
      " 7   Effectiveness  4648 non-null   int64 \n",
      " 8   Reviews        4648 non-null   object\n",
      " 9   Satisfaction   4648 non-null   int64 \n",
      " 10  Sides          4648 non-null   object\n",
      " 11  UsefulCount    4648 non-null   int64 \n",
      " 12  Sex            4648 non-null   object\n",
      " 13  Race           4648 non-null   object\n",
      "dtypes: int64(5), object(9)\n",
      "memory usage: 544.7+ KB\n"
     ]
    }
   ],
   "source": [
    "data.info()"
   ]
  },
  {
   "cell_type": "code",
   "execution_count": 114,
   "metadata": {},
   "outputs": [
    {
     "data": {
      "text/html": [
       "<div>\n",
       "<style scoped>\n",
       "    .dataframe tbody tr th:only-of-type {\n",
       "        vertical-align: middle;\n",
       "    }\n",
       "\n",
       "    .dataframe tbody tr th {\n",
       "        vertical-align: top;\n",
       "    }\n",
       "\n",
       "    .dataframe thead th {\n",
       "        text-align: right;\n",
       "    }\n",
       "</style>\n",
       "<table border=\"1\" class=\"dataframe\">\n",
       "  <thead>\n",
       "    <tr style=\"text-align: right;\">\n",
       "      <th></th>\n",
       "      <th>Name</th>\n",
       "      <th>Age</th>\n",
       "      <th>Condition</th>\n",
       "      <th>Date</th>\n",
       "      <th>Drug</th>\n",
       "      <th>DrugId</th>\n",
       "      <th>EaseofUse</th>\n",
       "      <th>Effectiveness</th>\n",
       "      <th>Reviews</th>\n",
       "      <th>Satisfaction</th>\n",
       "      <th>Sides</th>\n",
       "      <th>UsefulCount</th>\n",
       "      <th>Sex</th>\n",
       "      <th>Race</th>\n",
       "    </tr>\n",
       "  </thead>\n",
       "  <tbody>\n",
       "    <tr>\n",
       "      <th>314212</th>\n",
       "      <td>Gabriel</td>\n",
       "      <td></td>\n",
       "      <td>Major Depressive Disorder</td>\n",
       "      <td>2/29/2020</td>\n",
       "      <td>cymbalta</td>\n",
       "      <td>91491</td>\n",
       "      <td>5</td>\n",
       "      <td>5</td>\n",
       "      <td>No Script or health Insurance needed to place ...</td>\n",
       "      <td>5</td>\n",
       "      <td>Nausea ,  dry mouth ,  constipation , loss of ...</td>\n",
       "      <td>12</td>\n",
       "      <td>M</td>\n",
       "      <td>Caucasoid</td>\n",
       "    </tr>\n",
       "    <tr>\n",
       "      <th>314216</th>\n",
       "      <td>Gabriel</td>\n",
       "      <td>45-54</td>\n",
       "      <td>Repeated Episodes of Anxiety</td>\n",
       "      <td>1/13/2020</td>\n",
       "      <td>cymbalta</td>\n",
       "      <td>91491</td>\n",
       "      <td>3</td>\n",
       "      <td>1</td>\n",
       "      <td>I was prescribed Cymbalta for anxiety and star...</td>\n",
       "      <td>1</td>\n",
       "      <td>Nausea ,  dry mouth ,  constipation , loss of ...</td>\n",
       "      <td>0</td>\n",
       "      <td>M</td>\n",
       "      <td>Negroid</td>\n",
       "    </tr>\n",
       "    <tr>\n",
       "      <th>314223</th>\n",
       "      <td>Gabriel</td>\n",
       "      <td>45-54</td>\n",
       "      <td>Anxiousness associated with Depression</td>\n",
       "      <td>01-04-2020</td>\n",
       "      <td>cymbalta</td>\n",
       "      <td>91491</td>\n",
       "      <td>5</td>\n",
       "      <td>5</td>\n",
       "      <td>Switched from Effexor to this medicine after 1...</td>\n",
       "      <td>5</td>\n",
       "      <td>Nausea ,  dry mouth ,  constipation , loss of ...</td>\n",
       "      <td>0</td>\n",
       "      <td>M</td>\n",
       "      <td>Mongoloid</td>\n",
       "    </tr>\n",
       "    <tr>\n",
       "      <th>314235</th>\n",
       "      <td>Gabriel</td>\n",
       "      <td>35-44</td>\n",
       "      <td>Anxiousness associated with Depression</td>\n",
       "      <td>12-06-2019</td>\n",
       "      <td>cymbalta</td>\n",
       "      <td>91491</td>\n",
       "      <td>3</td>\n",
       "      <td>3</td>\n",
       "      <td>Bipolar I with a neck fusion. Pdoc prescribed ...</td>\n",
       "      <td>2</td>\n",
       "      <td>Nausea ,  dry mouth ,  constipation , loss of ...</td>\n",
       "      <td>0</td>\n",
       "      <td>M</td>\n",
       "      <td>Caucasoid</td>\n",
       "    </tr>\n",
       "    <tr>\n",
       "      <th>314246</th>\n",
       "      <td>Gabriel</td>\n",
       "      <td>55-64</td>\n",
       "      <td>Chronic Muscle or Bone Pain</td>\n",
       "      <td>11/20/2019</td>\n",
       "      <td>cymbalta</td>\n",
       "      <td>91491</td>\n",
       "      <td>2</td>\n",
       "      <td>2</td>\n",
       "      <td>I have depression, anxiety, Fibro, severe musc...</td>\n",
       "      <td>2</td>\n",
       "      <td>Nausea ,  dry mouth ,  constipation , loss of ...</td>\n",
       "      <td>1</td>\n",
       "      <td>M</td>\n",
       "      <td>Caucasoid</td>\n",
       "    </tr>\n",
       "  </tbody>\n",
       "</table>\n",
       "</div>"
      ],
      "text/plain": [
       "           Name    Age                               Condition        Date  \\\n",
       "314212  Gabriel                      Major Depressive Disorder   2/29/2020   \n",
       "314216  Gabriel  45-54            Repeated Episodes of Anxiety   1/13/2020   \n",
       "314223  Gabriel  45-54  Anxiousness associated with Depression  01-04-2020   \n",
       "314235  Gabriel  35-44  Anxiousness associated with Depression  12-06-2019   \n",
       "314246  Gabriel  55-64             Chronic Muscle or Bone Pain  11/20/2019   \n",
       "\n",
       "            Drug  DrugId  EaseofUse  Effectiveness  \\\n",
       "314212  cymbalta   91491          5              5   \n",
       "314216  cymbalta   91491          3              1   \n",
       "314223  cymbalta   91491          5              5   \n",
       "314235  cymbalta   91491          3              3   \n",
       "314246  cymbalta   91491          2              2   \n",
       "\n",
       "                                                  Reviews  Satisfaction  \\\n",
       "314212  No Script or health Insurance needed to place ...             5   \n",
       "314216  I was prescribed Cymbalta for anxiety and star...             1   \n",
       "314223  Switched from Effexor to this medicine after 1...             5   \n",
       "314235  Bipolar I with a neck fusion. Pdoc prescribed ...             2   \n",
       "314246  I have depression, anxiety, Fibro, severe musc...             2   \n",
       "\n",
       "                                                    Sides  UsefulCount Sex  \\\n",
       "314212  Nausea ,  dry mouth ,  constipation , loss of ...           12   M   \n",
       "314216  Nausea ,  dry mouth ,  constipation , loss of ...            0   M   \n",
       "314223  Nausea ,  dry mouth ,  constipation , loss of ...            0   M   \n",
       "314235  Nausea ,  dry mouth ,  constipation , loss of ...            0   M   \n",
       "314246  Nausea ,  dry mouth ,  constipation , loss of ...            1   M   \n",
       "\n",
       "             Race  \n",
       "314212  Caucasoid  \n",
       "314216    Negroid  \n",
       "314223  Mongoloid  \n",
       "314235  Caucasoid  \n",
       "314246  Caucasoid  "
      ]
     },
     "execution_count": 114,
     "metadata": {},
     "output_type": "execute_result"
    }
   ],
   "source": [
    "data.head()"
   ]
  },
  {
   "cell_type": "markdown",
   "metadata": {},
   "source": [
    "# Now , the dataset contains the data of only one drug with DrugId = 91491 i.e, The Drug 'cymbalta'."
   ]
  },
  {
   "cell_type": "markdown",
   "metadata": {},
   "source": [
    "Let's look deeper into the dataset"
   ]
  },
  {
   "cell_type": "markdown",
   "metadata": {},
   "source": [
    "# DATA PREPROCESSING"
   ]
  },
  {
   "cell_type": "code",
   "execution_count": 116,
   "metadata": {},
   "outputs": [
    {
     "data": {
      "text/plain": [
       "45-54         1291\n",
       "55-64         1008\n",
       "35-44          874\n",
       "25-34          594\n",
       "65-74          400\n",
       "19-24          225\n",
       "               118\n",
       "75 or over     102\n",
       "13-18           34\n",
       "0-2              1\n",
       "07-Dec           1\n",
       "Name: Age, dtype: int64"
      ]
     },
     "execution_count": 116,
     "metadata": {},
     "output_type": "execute_result"
    }
   ],
   "source": [
    "data['Age'].value_counts()"
   ]
  },
  {
   "cell_type": "code",
   "execution_count": 117,
   "metadata": {},
   "outputs": [
    {
     "data": {
      "text/plain": [
       "Major Depressive Disorder                                    1939\n",
       "Neuropathic Pain                                              699\n",
       "Repeated Episodes of Anxiety                                  577\n",
       "Other                                                         514\n",
       "Disorder characterized by Stiff, Tender & Painful Muscles     409\n",
       "Chronic Muscle or Bone Pain                                   405\n",
       "Anxiousness associated with Depression                         55\n",
       "Diabetic Complication causing Injury to some Body Nerves       50\n",
       "Name: Condition, dtype: int64"
      ]
     },
     "execution_count": 117,
     "metadata": {},
     "output_type": "execute_result"
    }
   ],
   "source": [
    "data['Condition'].value_counts()"
   ]
  },
  {
   "cell_type": "code",
   "execution_count": 118,
   "metadata": {},
   "outputs": [
    {
     "data": {
      "text/plain": [
       "5    2502\n",
       "4     998\n",
       "3     484\n",
       "1     476\n",
       "2     188\n",
       "Name: EaseofUse, dtype: int64"
      ]
     },
     "execution_count": 118,
     "metadata": {},
     "output_type": "execute_result"
    }
   ],
   "source": [
    "data['EaseofUse'].value_counts()"
   ]
  },
  {
   "cell_type": "code",
   "execution_count": 119,
   "metadata": {},
   "outputs": [
    {
     "data": {
      "text/plain": [
       "5    1369\n",
       "4    1102\n",
       "1     953\n",
       "3     810\n",
       "2     414\n",
       "Name: Effectiveness, dtype: int64"
      ]
     },
     "execution_count": 119,
     "metadata": {},
     "output_type": "execute_result"
    }
   ],
   "source": [
    "data['Effectiveness'].value_counts()"
   ]
  },
  {
   "cell_type": "code",
   "execution_count": 120,
   "metadata": {},
   "outputs": [
    {
     "data": {
      "text/plain": [
       "                                                                                                                                                                                                                                                                                                                                                                                                                                                                                                                                                                                                                                                                                                                                                                                                                                                                                                  502\n",
       "just started                                                                                                                                                                                                                                                                                                                                                                                                                                                                                                                                                                                                                                                                                                                                                                                                                                                                                        2\n",
       "i have been weaning off of this medication--at first just felt horrible--nausea. dizziness, weird \"ching-ching\" things in my head (like when i turn my head, and even when not),  the nausea was the worse thing for nme to deal with--now i feel like im crazy--really irritable and moody--i was getting really mad about someone driving really slow down the road, and felt so angry that i felt like i was having a panic attack--can anyone relate to this?  is this part of the withdrawel?  i am normally not this way--im not bipolar, but feel like since im not taking this med, that i feel very strange--if anyone else is experiencing this, from stopping this med, please let me know --my e-mail is bunz2918@aol.com---i'll definately be contacting my dr., but please let me know if you have gone through this also--i almost feel like i am fighting a drug withdrawl--\\n      2\n",
       "depression                                                                                                                                                                                                                                                                                                                                                                                                                                                                                                                                                                                                                                                                                                                                                                                                                                                                                          2\n",
       "weight gain                                                                                                                                                                                                                                                                                                                                                                                                                                                                                                                                                                                                                                                                                                                                                                                                                                                                                         2\n",
       "                                                                                                                                                                                                                                                                                                                                                                                                                                                                                                                                                                                                                                                                                                                                                                                                                                                                                                 ... \n",
       "I began taking this medication 2 months ago and did not see any improvement.  Added to the fact that it did not work, my co-pay for a month was $60.  While weaning myself from it I have experienced a lot of the ugly withdrawal symptoms that many of you have shared.  I am glad that I went to Webmd and read about others experiences with this drug, it helped me to know what I had to look forward to.  I have the cold feet, racing pulse, sweating,brain zaps, itching, rash on my neck, nausea, (no vomiting yet), and the urge to sleep all the tine.  I am in the last week of reducing the dosage and I have been too sick to my stomach to eat.  I really hope this is the end of the symptoms, please let me know if I can expect more.                                                                                                                                            1\n",
       "JUST STARTED TAKING THIS FOR RA AND IT IS HELPING BUT IT HAS ONLY BEEN A WEEK. SO WE'LL SEE ABOUT LATER                                                                                                                                                                                                                                                                                                                                                                                                                                                                                                                                                                                                                                                                                                                                                                                             1\n",
       "This has been a life saver for me as I have depression and fibromyalgia.                                                                                                                                                                                                                                                                                                                                                                                                                                                                                                                                                                                                                                                                                                                                                                                                                            1\n",
       "I have experianced hip & leg pain due to lower back problem. Pain pills only helped for a short time and made me fell out of it. With this medication I have been able to resume my normal activities.                                                                                                                                                                                                                                                                                                                                                                                                                                                                                                                                                                                                                                                                                              1\n",
       "Medication was prescribed for a combination of anxiety, depression and pain.  The medication was effective in treating all conditions but it had numerous side effects. Dry mouth, weight gain and a terrible 'bug zapper' feeling which still exists 6 months after discontinuation.                                                                                                                                                                                                                                                                                                                                                                                                                                                                                                                                                                                                               1\n",
       "Name: Reviews, Length: 4141, dtype: int64"
      ]
     },
     "execution_count": 120,
     "metadata": {},
     "output_type": "execute_result"
    }
   ],
   "source": [
    "data['Reviews'].value_counts()"
   ]
  },
  {
   "cell_type": "code",
   "execution_count": 121,
   "metadata": {},
   "outputs": [
    {
     "data": {
      "text/plain": [
       "1    1490\n",
       "5    1268\n",
       "4     852\n",
       "3     646\n",
       "2     392\n",
       "Name: Satisfaction, dtype: int64"
      ]
     },
     "execution_count": 121,
     "metadata": {},
     "output_type": "execute_result"
    }
   ],
   "source": [
    "data['Satisfaction'].value_counts()"
   ]
  },
  {
   "cell_type": "code",
   "execution_count": 122,
   "metadata": {},
   "outputs": [
    {
     "data": {
      "text/plain": [
       "M    3451\n",
       "F    1197\n",
       "Name: Sex, dtype: int64"
      ]
     },
     "execution_count": 122,
     "metadata": {},
     "output_type": "execute_result"
    }
   ],
   "source": [
    "data['Sex'].value_counts()"
   ]
  },
  {
   "cell_type": "code",
   "execution_count": 123,
   "metadata": {},
   "outputs": [
    {
     "data": {
      "text/plain": [
       "Nausea ,  dry mouth ,  constipation , loss of appetite, tiredness, drowsiness, or increased  sweating  may occur.    4648\n",
       "Name: Sides, dtype: int64"
      ]
     },
     "execution_count": 123,
     "metadata": {},
     "output_type": "execute_result"
    }
   ],
   "source": [
    "data['Sides'].value_counts()"
   ]
  },
  {
   "cell_type": "code",
   "execution_count": 124,
   "metadata": {},
   "outputs": [
    {
     "data": {
      "text/plain": [
       "69"
      ]
     },
     "execution_count": 124,
     "metadata": {},
     "output_type": "execute_result"
    }
   ],
   "source": [
    "data['UsefulCount'].nunique()"
   ]
  },
  {
   "cell_type": "code",
   "execution_count": 125,
   "metadata": {},
   "outputs": [
    {
     "data": {
      "text/plain": [
       "4141"
      ]
     },
     "execution_count": 125,
     "metadata": {},
     "output_type": "execute_result"
    }
   ],
   "source": [
    "data.Reviews.nunique()"
   ]
  },
  {
   "cell_type": "markdown",
   "metadata": {},
   "source": [
    "# So, Now we got a dataset with information regarding the side effect of the drug ' cymbalta'.The columns 'Review' contains 4141 unique entries.so we can neglect the column.Also,the column 'Name' , 'Date' , 'DrugId' can be dropped since it is irrelevent to the dataset now.Finally, the column 'Sides' can also be dropped as the side effects are same.\n",
    "\n",
    "Let's take the column ' Effectiveness' to know the intensity of side effects."
   ]
  },
  {
   "cell_type": "code",
   "execution_count": 126,
   "metadata": {},
   "outputs": [],
   "source": [
    "data=data.drop(['Name', 'Date','Drug','DrugId','Sides','Reviews'],axis=1)"
   ]
  },
  {
   "cell_type": "code",
   "execution_count": 127,
   "metadata": {},
   "outputs": [
    {
     "data": {
      "text/plain": [
       "(4648, 8)"
      ]
     },
     "execution_count": 127,
     "metadata": {},
     "output_type": "execute_result"
    }
   ],
   "source": [
    "data.shape"
   ]
  },
  {
   "cell_type": "code",
   "execution_count": 128,
   "metadata": {},
   "outputs": [
    {
     "data": {
      "text/html": [
       "<div>\n",
       "<style scoped>\n",
       "    .dataframe tbody tr th:only-of-type {\n",
       "        vertical-align: middle;\n",
       "    }\n",
       "\n",
       "    .dataframe tbody tr th {\n",
       "        vertical-align: top;\n",
       "    }\n",
       "\n",
       "    .dataframe thead th {\n",
       "        text-align: right;\n",
       "    }\n",
       "</style>\n",
       "<table border=\"1\" class=\"dataframe\">\n",
       "  <thead>\n",
       "    <tr style=\"text-align: right;\">\n",
       "      <th></th>\n",
       "      <th>Age</th>\n",
       "      <th>Condition</th>\n",
       "      <th>EaseofUse</th>\n",
       "      <th>Effectiveness</th>\n",
       "      <th>Satisfaction</th>\n",
       "      <th>UsefulCount</th>\n",
       "      <th>Sex</th>\n",
       "      <th>Race</th>\n",
       "    </tr>\n",
       "  </thead>\n",
       "  <tbody>\n",
       "    <tr>\n",
       "      <th>314212</th>\n",
       "      <td></td>\n",
       "      <td>Major Depressive Disorder</td>\n",
       "      <td>5</td>\n",
       "      <td>5</td>\n",
       "      <td>5</td>\n",
       "      <td>12</td>\n",
       "      <td>M</td>\n",
       "      <td>Caucasoid</td>\n",
       "    </tr>\n",
       "    <tr>\n",
       "      <th>314216</th>\n",
       "      <td>45-54</td>\n",
       "      <td>Repeated Episodes of Anxiety</td>\n",
       "      <td>3</td>\n",
       "      <td>1</td>\n",
       "      <td>1</td>\n",
       "      <td>0</td>\n",
       "      <td>M</td>\n",
       "      <td>Negroid</td>\n",
       "    </tr>\n",
       "    <tr>\n",
       "      <th>314223</th>\n",
       "      <td>45-54</td>\n",
       "      <td>Anxiousness associated with Depression</td>\n",
       "      <td>5</td>\n",
       "      <td>5</td>\n",
       "      <td>5</td>\n",
       "      <td>0</td>\n",
       "      <td>M</td>\n",
       "      <td>Mongoloid</td>\n",
       "    </tr>\n",
       "    <tr>\n",
       "      <th>314235</th>\n",
       "      <td>35-44</td>\n",
       "      <td>Anxiousness associated with Depression</td>\n",
       "      <td>3</td>\n",
       "      <td>3</td>\n",
       "      <td>2</td>\n",
       "      <td>0</td>\n",
       "      <td>M</td>\n",
       "      <td>Caucasoid</td>\n",
       "    </tr>\n",
       "    <tr>\n",
       "      <th>314246</th>\n",
       "      <td>55-64</td>\n",
       "      <td>Chronic Muscle or Bone Pain</td>\n",
       "      <td>2</td>\n",
       "      <td>2</td>\n",
       "      <td>2</td>\n",
       "      <td>1</td>\n",
       "      <td>M</td>\n",
       "      <td>Caucasoid</td>\n",
       "    </tr>\n",
       "  </tbody>\n",
       "</table>\n",
       "</div>"
      ],
      "text/plain": [
       "          Age                               Condition  EaseofUse  \\\n",
       "314212                      Major Depressive Disorder          5   \n",
       "314216  45-54            Repeated Episodes of Anxiety          3   \n",
       "314223  45-54  Anxiousness associated with Depression          5   \n",
       "314235  35-44  Anxiousness associated with Depression          3   \n",
       "314246  55-64             Chronic Muscle or Bone Pain          2   \n",
       "\n",
       "        Effectiveness  Satisfaction  UsefulCount Sex       Race  \n",
       "314212              5             5           12   M  Caucasoid  \n",
       "314216              1             1            0   M    Negroid  \n",
       "314223              5             5            0   M  Mongoloid  \n",
       "314235              3             2            0   M  Caucasoid  \n",
       "314246              2             2            1   M  Caucasoid  "
      ]
     },
     "execution_count": 128,
     "metadata": {},
     "output_type": "execute_result"
    }
   ],
   "source": [
    "data.head()"
   ]
  },
  {
   "cell_type": "markdown",
   "metadata": {},
   "source": [
    "# CHECKING FOR NULL VALUES"
   ]
  },
  {
   "cell_type": "code",
   "execution_count": 129,
   "metadata": {},
   "outputs": [
    {
     "data": {
      "text/plain": [
       "Age              0\n",
       "Condition        0\n",
       "EaseofUse        0\n",
       "Effectiveness    0\n",
       "Satisfaction     0\n",
       "UsefulCount      0\n",
       "Sex              0\n",
       "Race             0\n",
       "dtype: int64"
      ]
     },
     "execution_count": 129,
     "metadata": {},
     "output_type": "execute_result"
    }
   ],
   "source": [
    "data.isna().sum()"
   ]
  },
  {
   "cell_type": "markdown",
   "metadata": {},
   "source": [
    "# HANDLING MISSING VALUES"
   ]
  },
  {
   "cell_type": "code",
   "execution_count": 130,
   "metadata": {},
   "outputs": [
    {
     "data": {
      "text/plain": [
       "45-54         1291\n",
       "55-64         1008\n",
       "35-44          874\n",
       "25-34          594\n",
       "65-74          400\n",
       "19-24          225\n",
       "               118\n",
       "75 or over     102\n",
       "13-18           34\n",
       "0-2              1\n",
       "07-Dec           1\n",
       "Name: Age, dtype: int64"
      ]
     },
     "execution_count": 130,
     "metadata": {},
     "output_type": "execute_result"
    }
   ],
   "source": [
    "data['Age'].value_counts()"
   ]
  },
  {
   "cell_type": "markdown",
   "metadata": {},
   "source": [
    "As we can see a blank space in the 'Age' column, we can fill it with ' 3-6' as it is missing from the range of values of Age"
   ]
  },
  {
   "cell_type": "code",
   "execution_count": 131,
   "metadata": {},
   "outputs": [],
   "source": [
    "data['Age'].replace(to_replace = [' '], value = '3-6', inplace = True)"
   ]
  },
  {
   "cell_type": "code",
   "execution_count": 132,
   "metadata": {
    "scrolled": true
   },
   "outputs": [
    {
     "data": {
      "text/plain": [
       "45-54         1291\n",
       "55-64         1008\n",
       "35-44          874\n",
       "25-34          594\n",
       "65-74          400\n",
       "19-24          225\n",
       "3-6            118\n",
       "75 or over     102\n",
       "13-18           34\n",
       "0-2              1\n",
       "07-Dec           1\n",
       "Name: Age, dtype: int64"
      ]
     },
     "execution_count": 132,
     "metadata": {},
     "output_type": "execute_result"
    }
   ],
   "source": [
    "#Let's check now\n",
    "data['Age'].value_counts()"
   ]
  },
  {
   "cell_type": "code",
   "execution_count": 134,
   "metadata": {},
   "outputs": [
    {
     "data": {
      "text/plain": [
       "M    3451\n",
       "F    1197\n",
       "Name: Sex, dtype: int64"
      ]
     },
     "execution_count": 134,
     "metadata": {},
     "output_type": "execute_result"
    }
   ],
   "source": [
    "data[\"Sex\"].value_counts()"
   ]
  },
  {
   "cell_type": "markdown",
   "metadata": {},
   "source": [
    "# CHECKING THE CORRELATION"
   ]
  },
  {
   "cell_type": "code",
   "execution_count": 135,
   "metadata": {},
   "outputs": [
    {
     "data": {
      "text/plain": [
       "<matplotlib.axes._subplots.AxesSubplot at 0xc781b20>"
      ]
     },
     "execution_count": 135,
     "metadata": {},
     "output_type": "execute_result"
    },
    {
     "data": {
      "image/png": "[encoded data removed]",
      "text/plain": [
       "<Figure size 1008x576 with 2 Axes>"
      ]
     },
     "metadata": {},
     "output_type": "display_data"
    }
   ],
   "source": [
    "corrmatrix = data.corr()\n",
    "plt.subplots(figsize=(14,8))\n",
    "sns.heatmap(corrmatrix,vmin=-0.4 , vmax=0.9, annot=True, cmap='YlGnBu' , linewidth=0.2)"
   ]
  },
  {
   "cell_type": "markdown",
   "metadata": {},
   "source": [
    "We can spot a high Correlation between Effectiveness and Satisfaction"
   ]
  },
  {
   "cell_type": "markdown",
   "metadata": {},
   "source": [
    "# CHECKING FOR OUTLIERS IN THE DATASET"
   ]
  },
  {
   "cell_type": "code",
   "execution_count": 136,
   "metadata": {},
   "outputs": [
    {
     "data": {
      "image/png": "[encoded data removed]",
      "text/plain": [
       "<Figure size 576x432 with 4 Axes>"
      ]
     },
     "metadata": {},
     "output_type": "display_data"
    }
   ],
   "source": [
    "#We can spot outliers by plotting box plots.\n",
    "plt.figure(figsize=(8,6))\n",
    "\n",
    "plt.subplot(2,2,1)\n",
    "plt.boxplot(data[\"EaseofUse\"])\n",
    "plt.title(\"BOX PLOT OF EASE OF USE\")\n",
    "\n",
    "plt.subplot(2,2,2)\n",
    "plt.boxplot(data[\"Effectiveness\"])\n",
    "plt.title(\"BOX PLOT OF EFFECTIVENESS\")\n",
    "\n",
    "plt.subplot(2,2,3)\n",
    "plt.boxplot(data[\"Satisfaction\"])\n",
    "plt.title(\"BOX PLOT OF SATISFACTION\")\n",
    "\n",
    "plt.subplot(2,2,4)\n",
    "plt.boxplot(data[\"UsefulCount\"])\n",
    "plt.title(\"BOX PLOT OF USEFUL COUNT\")\n",
    "\n",
    "plt.show()"
   ]
  },
  {
   "cell_type": "markdown",
   "metadata": {},
   "source": [
    "Outliers are spotted in the column ' Useful Count ' and ' Ease of use '."
   ]
  },
  {
   "cell_type": "code",
   "execution_count": 137,
   "metadata": {},
   "outputs": [
    {
     "name": "stdout",
     "output_type": "stream",
     "text": [
      "lower limit= -8.5\n",
      "upperlimit = 19.5\n"
     ]
    }
   ],
   "source": [
    "#Indexing Outliers in the column ' Useful Count ' with IQR Method.\n",
    "Q1=np.percentile(data[\"UsefulCount\"],25,interpolation=\"midpoint\")\n",
    "Q3=np.percentile(data[\"UsefulCount\"],75,interpolation=\"midpoint\")\n",
    "IQR=Q3-Q1\n",
    "low=Q1-(1.5*IQR)\n",
    "upper=Q3+(1.5*IQR)\n",
    "print(\"lower limit=\",low)\n",
    "print(\"upperlimit =\",upper)"
   ]
  },
  {
   "cell_type": "code",
   "execution_count": 138,
   "metadata": {},
   "outputs": [
    {
     "data": {
      "text/plain": [
       "[22,\n",
       " 27,\n",
       " 30,\n",
       " 30,\n",
       " 28,\n",
       " 21,\n",
       " 36,\n",
       " 35,\n",
       " 34,\n",
       " 25,\n",
       " 39,\n",
       " 56,\n",
       " 29,\n",
       " 71,\n",
       " 23,\n",
       " 29,\n",
       " 21,\n",
       " 32,\n",
       " 24,\n",
       " 22,\n",
       " 21,\n",
       " 25,\n",
       " 21,\n",
       " 25,\n",
       " 32,\n",
       " 22,\n",
       " 30,\n",
       " 20,\n",
       " 42,\n",
       " 30,\n",
       " 22,\n",
       " 103,\n",
       " 38,\n",
       " 28,\n",
       " 30,\n",
       " 33,\n",
       " 26,\n",
       " 61,\n",
       " 25,\n",
       " 26,\n",
       " 28,\n",
       " 41,\n",
       " 93,\n",
       " 90,\n",
       " 134,\n",
       " 145,\n",
       " 51,\n",
       " 27,\n",
       " 29,\n",
       " 43,\n",
       " 39,\n",
       " 30,\n",
       " 22,\n",
       " 21,\n",
       " 35,\n",
       " 33,\n",
       " 48,\n",
       " 36,\n",
       " 56,\n",
       " 27,\n",
       " 38,\n",
       " 21,\n",
       " 24,\n",
       " 30,\n",
       " 22,\n",
       " 22,\n",
       " 21,\n",
       " 31,\n",
       " 21,\n",
       " 21,\n",
       " 25,\n",
       " 93,\n",
       " 24,\n",
       " 31,\n",
       " 35,\n",
       " 82,\n",
       " 20,\n",
       " 33,\n",
       " 25,\n",
       " 58,\n",
       " 20,\n",
       " 46,\n",
       " 21,\n",
       " 47,\n",
       " 45,\n",
       " 44,\n",
       " 34,\n",
       " 60,\n",
       " 48,\n",
       " 26,\n",
       " 29,\n",
       " 50,\n",
       " 36,\n",
       " 20,\n",
       " 25,\n",
       " 47,\n",
       " 20,\n",
       " 20,\n",
       " 23,\n",
       " 41,\n",
       " 26,\n",
       " 21,\n",
       " 22,\n",
       " 25,\n",
       " 21,\n",
       " 23,\n",
       " 22,\n",
       " 28,\n",
       " 22,\n",
       " 21,\n",
       " 28,\n",
       " 20,\n",
       " 42,\n",
       " 27,\n",
       " 20,\n",
       " 28,\n",
       " 22,\n",
       " 26,\n",
       " 25,\n",
       " 29,\n",
       " 23,\n",
       " 26,\n",
       " 116,\n",
       " 21,\n",
       " 51,\n",
       " 40,\n",
       " 29,\n",
       " 20,\n",
       " 28,\n",
       " 28,\n",
       " 25,\n",
       " 21,\n",
       " 34,\n",
       " 31,\n",
       " 30,\n",
       " 23,\n",
       " 20,\n",
       " 20,\n",
       " 26,\n",
       " 35,\n",
       " 29,\n",
       " 65,\n",
       " 24,\n",
       " 22,\n",
       " 30,\n",
       " 20,\n",
       " 26,\n",
       " 34,\n",
       " 20,\n",
       " 21,\n",
       " 46,\n",
       " 23,\n",
       " 20,\n",
       " 23,\n",
       " 27,\n",
       " 27,\n",
       " 35,\n",
       " 21,\n",
       " 25,\n",
       " 20,\n",
       " 21,\n",
       " 21,\n",
       " 28,\n",
       " 97,\n",
       " 23,\n",
       " 23,\n",
       " 22,\n",
       " 33,\n",
       " 56,\n",
       " 45,\n",
       " 22,\n",
       " 39,\n",
       " 21,\n",
       " 23,\n",
       " 41,\n",
       " 77,\n",
       " 31,\n",
       " 129,\n",
       " 24,\n",
       " 22,\n",
       " 20,\n",
       " 31,\n",
       " 24,\n",
       " 34,\n",
       " 22,\n",
       " 20,\n",
       " 21,\n",
       " 23,\n",
       " 24,\n",
       " 21,\n",
       " 22,\n",
       " 22,\n",
       " 21,\n",
       " 20,\n",
       " 29,\n",
       " 22,\n",
       " 22,\n",
       " 23,\n",
       " 20,\n",
       " 22,\n",
       " 22,\n",
       " 28,\n",
       " 24,\n",
       " 20,\n",
       " 20,\n",
       " 22,\n",
       " 24,\n",
       " 20,\n",
       " 21,\n",
       " 22,\n",
       " 32,\n",
       " 21,\n",
       " 20,\n",
       " 21,\n",
       " 27,\n",
       " 46,\n",
       " 31,\n",
       " 29,\n",
       " 44,\n",
       " 46,\n",
       " 36,\n",
       " 28,\n",
       " 28,\n",
       " 50,\n",
       " 68,\n",
       " 31,\n",
       " 38,\n",
       " 36,\n",
       " 23,\n",
       " 20,\n",
       " 59,\n",
       " 28,\n",
       " 28,\n",
       " 24,\n",
       " 58,\n",
       " 26,\n",
       " 25,\n",
       " 23,\n",
       " 23,\n",
       " 23,\n",
       " 24,\n",
       " 33,\n",
       " 44,\n",
       " 25,\n",
       " 43,\n",
       " 20,\n",
       " 37,\n",
       " 20,\n",
       " 24,\n",
       " 26,\n",
       " 22,\n",
       " 29,\n",
       " 36,\n",
       " 23,\n",
       " 44,\n",
       " 25,\n",
       " 27,\n",
       " 29]"
      ]
     },
     "execution_count": 138,
     "metadata": {},
     "output_type": "execute_result"
    }
   ],
   "source": [
    "outlier = []\n",
    "for x in data['UsefulCount']:\n",
    "    if((x>upper)or(x<low)):\n",
    "        outlier.append(x)\n",
    "outlier"
   ]
  },
  {
   "cell_type": "code",
   "execution_count": 139,
   "metadata": {},
   "outputs": [],
   "source": [
    "data=data.drop(data.loc[data[\"UsefulCount\"]>upper].index)"
   ]
  },
  {
   "cell_type": "code",
   "execution_count": 140,
   "metadata": {},
   "outputs": [
    {
     "data": {
      "text/plain": [
       "{'whiskers': [<matplotlib.lines.Line2D at 0xbffde20>,\n",
       "  <matplotlib.lines.Line2D at 0xc0091c0>],\n",
       " 'caps': [<matplotlib.lines.Line2D at 0xc009550>,\n",
       "  <matplotlib.lines.Line2D at 0xc0098b0>],\n",
       " 'boxes': [<matplotlib.lines.Line2D at 0xbffdac0>],\n",
       " 'medians': [<matplotlib.lines.Line2D at 0xc009bb0>],\n",
       " 'fliers': [<matplotlib.lines.Line2D at 0xc009eb0>],\n",
       " 'means': []}"
      ]
     },
     "execution_count": 140,
     "metadata": {},
     "output_type": "execute_result"
    },
    {
     "data": {
      "image/png": "[encoded data removed]",
      "text/plain": [
       "<Figure size 432x288 with 1 Axes>"
      ]
     },
     "metadata": {},
     "output_type": "display_data"
    }
   ],
   "source": [
    "plt.boxplot(data[\"UsefulCount\"])"
   ]
  },
  {
   "cell_type": "markdown",
   "metadata": {},
   "source": [
    "The Outliers are removed from the column 'Useful Count' ."
   ]
  },
  {
   "cell_type": "code",
   "execution_count": 141,
   "metadata": {},
   "outputs": [
    {
     "name": "stdout",
     "output_type": "stream",
     "text": [
      "lower limit= 2.5\n",
      "upperlimit =  6.5\n"
     ]
    }
   ],
   "source": [
    "#Indexing Outliers in the column ' Ease of Use ' with IQR Method.\n",
    "Q1=np.percentile(data[\"EaseofUse\"],25,interpolation=\"midpoint\")\n",
    "Q3=np.percentile(data[\"EaseofUse\"],75,interpolation=\"midpoint\")\n",
    "IQR=Q3-Q1\n",
    "low=Q1-(1.5*IQR)\n",
    "upper=Q3+(1.5*IQR)\n",
    "print(\"lower limit=\",low)\n",
    "print(\"upperlimit = \",upper)"
   ]
  },
  {
   "cell_type": "code",
   "execution_count": 142,
   "metadata": {},
   "outputs": [
    {
     "data": {
      "text/plain": [
       "[2,\n",
       " 2,\n",
       " 1,\n",
       " 1,\n",
       " 1,\n",
       " 2,\n",
       " 1,\n",
       " 1,\n",
       " 1,\n",
       " 1,\n",
       " 1,\n",
       " 1,\n",
       " 1,\n",
       " 1,\n",
       " 1,\n",
       " 1,\n",
       " 1,\n",
       " 1,\n",
       " 1,\n",
       " 1,\n",
       " 2,\n",
       " 1,\n",
       " 1,\n",
       " 1,\n",
       " 1,\n",
       " 2,\n",
       " 2,\n",
       " 1,\n",
       " 1,\n",
       " 1,\n",
       " 1,\n",
       " 1,\n",
       " 2,\n",
       " 1,\n",
       " 1,\n",
       " 1,\n",
       " 2,\n",
       " 1,\n",
       " 1,\n",
       " 1,\n",
       " 1,\n",
       " 1,\n",
       " 2,\n",
       " 1,\n",
       " 2,\n",
       " 1,\n",
       " 1,\n",
       " 1,\n",
       " 1,\n",
       " 2,\n",
       " 1,\n",
       " 1,\n",
       " 1,\n",
       " 1,\n",
       " 1,\n",
       " 1,\n",
       " 1,\n",
       " 1,\n",
       " 1,\n",
       " 1,\n",
       " 1,\n",
       " 1,\n",
       " 1,\n",
       " 1,\n",
       " 2,\n",
       " 2,\n",
       " 2,\n",
       " 1,\n",
       " 1,\n",
       " 1,\n",
       " 1,\n",
       " 2,\n",
       " 1,\n",
       " 1,\n",
       " 2,\n",
       " 1,\n",
       " 2,\n",
       " 1,\n",
       " 2,\n",
       " 2,\n",
       " 1,\n",
       " 1,\n",
       " 1,\n",
       " 1,\n",
       " 1,\n",
       " 2,\n",
       " 1,\n",
       " 1,\n",
       " 2,\n",
       " 1,\n",
       " 1,\n",
       " 1,\n",
       " 1,\n",
       " 1,\n",
       " 1,\n",
       " 1,\n",
       " 1,\n",
       " 1,\n",
       " 1,\n",
       " 1,\n",
       " 1,\n",
       " 2,\n",
       " 1,\n",
       " 2,\n",
       " 1,\n",
       " 1,\n",
       " 1,\n",
       " 1,\n",
       " 1,\n",
       " 1,\n",
       " 1,\n",
       " 1,\n",
       " 1,\n",
       " 2,\n",
       " 1,\n",
       " 1,\n",
       " 1,\n",
       " 2,\n",
       " 1,\n",
       " 1,\n",
       " 1,\n",
       " 1,\n",
       " 1,\n",
       " 1,\n",
       " 1,\n",
       " 1,\n",
       " 1,\n",
       " 1,\n",
       " 1,\n",
       " 1,\n",
       " 2,\n",
       " 1,\n",
       " 1,\n",
       " 1,\n",
       " 1,\n",
       " 1,\n",
       " 1,\n",
       " 1,\n",
       " 2,\n",
       " 1,\n",
       " 1,\n",
       " 1,\n",
       " 1,\n",
       " 1,\n",
       " 1,\n",
       " 2,\n",
       " 1,\n",
       " 2,\n",
       " 1,\n",
       " 1,\n",
       " 1,\n",
       " 1,\n",
       " 2,\n",
       " 2,\n",
       " 1,\n",
       " 1,\n",
       " 1,\n",
       " 2,\n",
       " 1,\n",
       " 2,\n",
       " 2,\n",
       " 1,\n",
       " 1,\n",
       " 1,\n",
       " 1,\n",
       " 1,\n",
       " 1,\n",
       " 1,\n",
       " 2,\n",
       " 1,\n",
       " 1,\n",
       " 1,\n",
       " 1,\n",
       " 1,\n",
       " 1,\n",
       " 1,\n",
       " 2,\n",
       " 2,\n",
       " 1,\n",
       " 1,\n",
       " 1,\n",
       " 1,\n",
       " 2,\n",
       " 1,\n",
       " 1,\n",
       " 1,\n",
       " 1,\n",
       " 2,\n",
       " 1,\n",
       " 1,\n",
       " 1,\n",
       " 1,\n",
       " 2,\n",
       " 1,\n",
       " 1,\n",
       " 1,\n",
       " 2,\n",
       " 1,\n",
       " 1,\n",
       " 1,\n",
       " 2,\n",
       " 1,\n",
       " 2,\n",
       " 2,\n",
       " 1,\n",
       " 1,\n",
       " 1,\n",
       " 1,\n",
       " 2,\n",
       " 2,\n",
       " 2,\n",
       " 2,\n",
       " 1,\n",
       " 2,\n",
       " 1,\n",
       " 1,\n",
       " 1,\n",
       " 1,\n",
       " 1,\n",
       " 1,\n",
       " 1,\n",
       " 1,\n",
       " 1,\n",
       " 1,\n",
       " 1,\n",
       " 2,\n",
       " 2,\n",
       " 1,\n",
       " 1,\n",
       " 1,\n",
       " 1,\n",
       " 2,\n",
       " 1,\n",
       " 1,\n",
       " 1,\n",
       " 1,\n",
       " 2,\n",
       " 1,\n",
       " 1,\n",
       " 1,\n",
       " 2,\n",
       " 1,\n",
       " 2,\n",
       " 1,\n",
       " 1,\n",
       " 2,\n",
       " 1,\n",
       " 1,\n",
       " 1,\n",
       " 1,\n",
       " 1,\n",
       " 2,\n",
       " 2,\n",
       " 1,\n",
       " 1,\n",
       " 1,\n",
       " 2,\n",
       " 1,\n",
       " 1,\n",
       " 2,\n",
       " 2,\n",
       " 1,\n",
       " 1,\n",
       " 1,\n",
       " 2,\n",
       " 1,\n",
       " 2,\n",
       " 2,\n",
       " 1,\n",
       " 1,\n",
       " 1,\n",
       " 1,\n",
       " 1,\n",
       " 1,\n",
       " 2,\n",
       " 1,\n",
       " 2,\n",
       " 1,\n",
       " 2,\n",
       " 1,\n",
       " 1,\n",
       " 1,\n",
       " 1,\n",
       " 2,\n",
       " 1,\n",
       " 1,\n",
       " 2,\n",
       " 1,\n",
       " 1,\n",
       " 1,\n",
       " 1,\n",
       " 2,\n",
       " 1,\n",
       " 2,\n",
       " 1,\n",
       " 2,\n",
       " 2,\n",
       " 1,\n",
       " 2,\n",
       " 1,\n",
       " 2,\n",
       " 1,\n",
       " 2,\n",
       " 2,\n",
       " 1,\n",
       " 2,\n",
       " 2,\n",
       " 2,\n",
       " 1,\n",
       " 2,\n",
       " 2,\n",
       " 1,\n",
       " 1,\n",
       " 1,\n",
       " 2,\n",
       " 1,\n",
       " 1,\n",
       " 1,\n",
       " 1,\n",
       " 1,\n",
       " 1,\n",
       " 2,\n",
       " 2,\n",
       " 1,\n",
       " 1,\n",
       " 2,\n",
       " 1,\n",
       " 1,\n",
       " 1,\n",
       " 1,\n",
       " 1,\n",
       " 2,\n",
       " 2,\n",
       " 2,\n",
       " 1,\n",
       " 2,\n",
       " 2,\n",
       " 1,\n",
       " 1,\n",
       " 2,\n",
       " 1,\n",
       " 1,\n",
       " 1,\n",
       " 2,\n",
       " 2,\n",
       " 1,\n",
       " 1,\n",
       " 1,\n",
       " 1,\n",
       " 1,\n",
       " 1,\n",
       " 1,\n",
       " 1,\n",
       " 2,\n",
       " 1,\n",
       " 1,\n",
       " 1,\n",
       " 1,\n",
       " 1,\n",
       " 1,\n",
       " 1,\n",
       " 1,\n",
       " 2,\n",
       " 2,\n",
       " 1,\n",
       " 1,\n",
       " 1,\n",
       " 1,\n",
       " 1,\n",
       " 1,\n",
       " 2,\n",
       " 1,\n",
       " 1,\n",
       " 1,\n",
       " 2,\n",
       " 1,\n",
       " 2,\n",
       " 1,\n",
       " 2,\n",
       " 1,\n",
       " 1,\n",
       " 1,\n",
       " 1,\n",
       " 1,\n",
       " 1,\n",
       " 1,\n",
       " 2,\n",
       " 2,\n",
       " 1,\n",
       " 1,\n",
       " 1,\n",
       " 1,\n",
       " 1,\n",
       " 2,\n",
       " 2,\n",
       " 1,\n",
       " 1,\n",
       " 1,\n",
       " 1,\n",
       " 2,\n",
       " 1,\n",
       " 2,\n",
       " 1,\n",
       " 2,\n",
       " 1,\n",
       " 2,\n",
       " 2,\n",
       " 1,\n",
       " 2,\n",
       " 2,\n",
       " 1,\n",
       " 1,\n",
       " 1,\n",
       " 1,\n",
       " 2,\n",
       " 1,\n",
       " 2,\n",
       " 1,\n",
       " 2,\n",
       " 2,\n",
       " 2,\n",
       " 2,\n",
       " 1,\n",
       " 1,\n",
       " 2,\n",
       " 1,\n",
       " 1,\n",
       " 2,\n",
       " 1,\n",
       " 1,\n",
       " 1,\n",
       " 1,\n",
       " 1,\n",
       " 2,\n",
       " 1,\n",
       " 1,\n",
       " 1,\n",
       " 1,\n",
       " 2,\n",
       " 1,\n",
       " 1,\n",
       " 1,\n",
       " 1,\n",
       " 2,\n",
       " 1,\n",
       " 2,\n",
       " 2,\n",
       " 2,\n",
       " 2,\n",
       " 1,\n",
       " 2,\n",
       " 2,\n",
       " 1,\n",
       " 2,\n",
       " 2,\n",
       " 1,\n",
       " 1,\n",
       " 2,\n",
       " 1,\n",
       " 2,\n",
       " 1,\n",
       " 1,\n",
       " 1,\n",
       " 1,\n",
       " 1,\n",
       " 1,\n",
       " 1,\n",
       " 1,\n",
       " 1,\n",
       " 1,\n",
       " 2,\n",
       " 1,\n",
       " 2,\n",
       " 2,\n",
       " 1,\n",
       " 1,\n",
       " 1,\n",
       " 1,\n",
       " 1,\n",
       " 2,\n",
       " 1,\n",
       " 1,\n",
       " 1,\n",
       " 1,\n",
       " 1,\n",
       " 1,\n",
       " 2,\n",
       " 1,\n",
       " 1,\n",
       " 1,\n",
       " 2,\n",
       " 1,\n",
       " 2,\n",
       " 1,\n",
       " 1,\n",
       " 1,\n",
       " 1,\n",
       " 2,\n",
       " 1,\n",
       " 1,\n",
       " 1,\n",
       " 2,\n",
       " 1,\n",
       " 1,\n",
       " 1,\n",
       " 1,\n",
       " 1,\n",
       " 2,\n",
       " 1,\n",
       " 1,\n",
       " 2,\n",
       " 1,\n",
       " 1,\n",
       " 2,\n",
       " 2,\n",
       " 2,\n",
       " 1,\n",
       " 2,\n",
       " 2,\n",
       " 1,\n",
       " 1,\n",
       " 2,\n",
       " 2,\n",
       " 1,\n",
       " 1,\n",
       " 1,\n",
       " 2,\n",
       " 1,\n",
       " 2,\n",
       " 1,\n",
       " 1,\n",
       " 1,\n",
       " 2,\n",
       " 1,\n",
       " 1,\n",
       " 2,\n",
       " 1,\n",
       " 1,\n",
       " 1,\n",
       " 1,\n",
       " 1,\n",
       " 2,\n",
       " 1,\n",
       " 1,\n",
       " 2,\n",
       " 1,\n",
       " 2,\n",
       " 2,\n",
       " 1,\n",
       " 1,\n",
       " 1,\n",
       " 1,\n",
       " 2,\n",
       " 2,\n",
       " 2,\n",
       " 1,\n",
       " 2,\n",
       " 2,\n",
       " 1,\n",
       " 2,\n",
       " 2,\n",
       " 1,\n",
       " 1,\n",
       " 2,\n",
       " 2,\n",
       " 1,\n",
       " 1,\n",
       " 1,\n",
       " 1,\n",
       " 1,\n",
       " 2,\n",
       " 1,\n",
       " 1,\n",
       " 1,\n",
       " 1,\n",
       " 1,\n",
       " 2,\n",
       " 1,\n",
       " 1,\n",
       " 1,\n",
       " 1,\n",
       " 1,\n",
       " 1,\n",
       " 1,\n",
       " 2,\n",
       " 1,\n",
       " 1,\n",
       " 1,\n",
       " 1,\n",
       " 1,\n",
       " 1,\n",
       " 1,\n",
       " 2,\n",
       " 1,\n",
       " 1,\n",
       " 2,\n",
       " 1,\n",
       " 1,\n",
       " 2,\n",
       " 2,\n",
       " 1,\n",
       " 1,\n",
       " 1,\n",
       " 1,\n",
       " 1,\n",
       " 1,\n",
       " 1,\n",
       " 1,\n",
       " 2,\n",
       " 1,\n",
       " 1,\n",
       " 2,\n",
       " 1,\n",
       " 2,\n",
       " 1,\n",
       " 1,\n",
       " 1,\n",
       " 1,\n",
       " 2,\n",
       " 1,\n",
       " 1]"
      ]
     },
     "execution_count": 142,
     "metadata": {},
     "output_type": "execute_result"
    }
   ],
   "source": [
    "outlier = []\n",
    "for x in data['EaseofUse']:\n",
    "    if((x>upper)or(x<low)):\n",
    "        outlier.append(x)\n",
    "outlier"
   ]
  },
  {
   "cell_type": "code",
   "execution_count": 143,
   "metadata": {},
   "outputs": [],
   "source": [
    "data=data.drop(data.loc[data[\"EaseofUse\"]>upper].index)\n",
    "data=data.drop(data.loc[data[\"EaseofUse\"]<low].index)"
   ]
  },
  {
   "cell_type": "code",
   "execution_count": 144,
   "metadata": {},
   "outputs": [
    {
     "data": {
      "text/plain": [
       "{'whiskers': [<matplotlib.lines.Line2D at 0xc0597c0>,\n",
       "  <matplotlib.lines.Line2D at 0xc059b20>],\n",
       " 'caps': [<matplotlib.lines.Line2D at 0xc059e80>,\n",
       "  <matplotlib.lines.Line2D at 0x5695220>],\n",
       " 'boxes': [<matplotlib.lines.Line2D at 0xc059460>],\n",
       " 'medians': [<matplotlib.lines.Line2D at 0x5695580>],\n",
       " 'fliers': [<matplotlib.lines.Line2D at 0x5695880>],\n",
       " 'means': []}"
      ]
     },
     "execution_count": 144,
     "metadata": {},
     "output_type": "execute_result"
    },
    {
     "data": {
      "image/png": "[encoded data removed]",
      "text/plain": [
       "<Figure size 432x288 with 1 Axes>"
      ]
     },
     "metadata": {},
     "output_type": "display_data"
    }
   ],
   "source": [
    "plt.boxplot(data[\"EaseofUse\"])"
   ]
  },
  {
   "cell_type": "markdown",
   "metadata": {},
   "source": [
    "The Outliers are removed from the column 'Ease of Use' . "
   ]
  },
  {
   "cell_type": "code",
   "execution_count": 145,
   "metadata": {},
   "outputs": [
    {
     "data": {
      "text/plain": [
       "(3769, 8)"
      ]
     },
     "execution_count": 145,
     "metadata": {},
     "output_type": "execute_result"
    }
   ],
   "source": [
    "data.shape"
   ]
  },
  {
   "cell_type": "markdown",
   "metadata": {},
   "source": [
    "# Changing index : 0 to 3769"
   ]
  },
  {
   "cell_type": "code",
   "execution_count": 146,
   "metadata": {},
   "outputs": [],
   "source": [
    "list2=list(range(3769))\n",
    "data=data.set_index([list2])"
   ]
  },
  {
   "cell_type": "code",
   "execution_count": 147,
   "metadata": {},
   "outputs": [
    {
     "data": {
      "text/html": [
       "<div>\n",
       "<style scoped>\n",
       "    .dataframe tbody tr th:only-of-type {\n",
       "        vertical-align: middle;\n",
       "    }\n",
       "\n",
       "    .dataframe tbody tr th {\n",
       "        vertical-align: top;\n",
       "    }\n",
       "\n",
       "    .dataframe thead th {\n",
       "        text-align: right;\n",
       "    }\n",
       "</style>\n",
       "<table border=\"1\" class=\"dataframe\">\n",
       "  <thead>\n",
       "    <tr style=\"text-align: right;\">\n",
       "      <th></th>\n",
       "      <th>Age</th>\n",
       "      <th>Condition</th>\n",
       "      <th>EaseofUse</th>\n",
       "      <th>Effectiveness</th>\n",
       "      <th>Satisfaction</th>\n",
       "      <th>UsefulCount</th>\n",
       "      <th>Sex</th>\n",
       "      <th>Race</th>\n",
       "    </tr>\n",
       "  </thead>\n",
       "  <tbody>\n",
       "    <tr>\n",
       "      <th>0</th>\n",
       "      <td>3-6</td>\n",
       "      <td>Major Depressive Disorder</td>\n",
       "      <td>5</td>\n",
       "      <td>5</td>\n",
       "      <td>5</td>\n",
       "      <td>12</td>\n",
       "      <td>M</td>\n",
       "      <td>Caucasoid</td>\n",
       "    </tr>\n",
       "    <tr>\n",
       "      <th>1</th>\n",
       "      <td>45-54</td>\n",
       "      <td>Repeated Episodes of Anxiety</td>\n",
       "      <td>3</td>\n",
       "      <td>1</td>\n",
       "      <td>1</td>\n",
       "      <td>0</td>\n",
       "      <td>M</td>\n",
       "      <td>Negroid</td>\n",
       "    </tr>\n",
       "    <tr>\n",
       "      <th>2</th>\n",
       "      <td>45-54</td>\n",
       "      <td>Anxiousness associated with Depression</td>\n",
       "      <td>5</td>\n",
       "      <td>5</td>\n",
       "      <td>5</td>\n",
       "      <td>0</td>\n",
       "      <td>M</td>\n",
       "      <td>Mongoloid</td>\n",
       "    </tr>\n",
       "    <tr>\n",
       "      <th>3</th>\n",
       "      <td>35-44</td>\n",
       "      <td>Anxiousness associated with Depression</td>\n",
       "      <td>3</td>\n",
       "      <td>3</td>\n",
       "      <td>2</td>\n",
       "      <td>0</td>\n",
       "      <td>M</td>\n",
       "      <td>Caucasoid</td>\n",
       "    </tr>\n",
       "    <tr>\n",
       "      <th>4</th>\n",
       "      <td>55-64</td>\n",
       "      <td>Anxiousness associated with Depression</td>\n",
       "      <td>3</td>\n",
       "      <td>3</td>\n",
       "      <td>1</td>\n",
       "      <td>1</td>\n",
       "      <td>M</td>\n",
       "      <td>Negroid</td>\n",
       "    </tr>\n",
       "  </tbody>\n",
       "</table>\n",
       "</div>"
      ],
      "text/plain": [
       "     Age                               Condition  EaseofUse  Effectiveness  \\\n",
       "0    3-6               Major Depressive Disorder          5              5   \n",
       "1  45-54            Repeated Episodes of Anxiety          3              1   \n",
       "2  45-54  Anxiousness associated with Depression          5              5   \n",
       "3  35-44  Anxiousness associated with Depression          3              3   \n",
       "4  55-64  Anxiousness associated with Depression          3              3   \n",
       "\n",
       "   Satisfaction  UsefulCount Sex       Race  \n",
       "0             5           12   M  Caucasoid  \n",
       "1             1            0   M    Negroid  \n",
       "2             5            0   M  Mongoloid  \n",
       "3             2            0   M  Caucasoid  \n",
       "4             1            1   M    Negroid  "
      ]
     },
     "execution_count": 147,
     "metadata": {},
     "output_type": "execute_result"
    }
   ],
   "source": [
    "data.head()"
   ]
  },
  {
   "cell_type": "markdown",
   "metadata": {},
   "source": [
    "# Replace the values of the column ' Effectiveness ' into categorical values as No side effects,Mild side effects ,Moderate side effects,Severe side effects,Extreme severe side effects."
   ]
  },
  {
   "cell_type": "code",
   "execution_count": 148,
   "metadata": {},
   "outputs": [],
   "source": [
    "data['Effectiveness'].replace(to_replace = [1], value =['extreme severe side effects'], inplace = True)"
   ]
  },
  {
   "cell_type": "code",
   "execution_count": 149,
   "metadata": {},
   "outputs": [],
   "source": [
    "data['Effectiveness'].replace(to_replace = [2], value =['severe side effects'], inplace = True)"
   ]
  },
  {
   "cell_type": "code",
   "execution_count": 150,
   "metadata": {},
   "outputs": [],
   "source": [
    "data['Effectiveness'].replace(to_replace = [3], value =['moderate side effects'], inplace = True)"
   ]
  },
  {
   "cell_type": "code",
   "execution_count": 151,
   "metadata": {},
   "outputs": [],
   "source": [
    "data['Effectiveness'].replace(to_replace = [4], value =['mild side effects'], inplace = True)"
   ]
  },
  {
   "cell_type": "code",
   "execution_count": 152,
   "metadata": {},
   "outputs": [],
   "source": [
    "data['Effectiveness'].replace(to_replace = [5], value =['no side effects'], inplace = True)"
   ]
  },
  {
   "cell_type": "code",
   "execution_count": 153,
   "metadata": {},
   "outputs": [
    {
     "data": {
      "text/html": [
       "<div>\n",
       "<style scoped>\n",
       "    .dataframe tbody tr th:only-of-type {\n",
       "        vertical-align: middle;\n",
       "    }\n",
       "\n",
       "    .dataframe tbody tr th {\n",
       "        vertical-align: top;\n",
       "    }\n",
       "\n",
       "    .dataframe thead th {\n",
       "        text-align: right;\n",
       "    }\n",
       "</style>\n",
       "<table border=\"1\" class=\"dataframe\">\n",
       "  <thead>\n",
       "    <tr style=\"text-align: right;\">\n",
       "      <th></th>\n",
       "      <th>Age</th>\n",
       "      <th>Condition</th>\n",
       "      <th>EaseofUse</th>\n",
       "      <th>Effectiveness</th>\n",
       "      <th>Satisfaction</th>\n",
       "      <th>UsefulCount</th>\n",
       "      <th>Sex</th>\n",
       "      <th>Race</th>\n",
       "    </tr>\n",
       "  </thead>\n",
       "  <tbody>\n",
       "    <tr>\n",
       "      <th>0</th>\n",
       "      <td>3-6</td>\n",
       "      <td>Major Depressive Disorder</td>\n",
       "      <td>5</td>\n",
       "      <td>no side effects</td>\n",
       "      <td>5</td>\n",
       "      <td>12</td>\n",
       "      <td>M</td>\n",
       "      <td>Caucasoid</td>\n",
       "    </tr>\n",
       "    <tr>\n",
       "      <th>1</th>\n",
       "      <td>45-54</td>\n",
       "      <td>Repeated Episodes of Anxiety</td>\n",
       "      <td>3</td>\n",
       "      <td>extreme severe side effects</td>\n",
       "      <td>1</td>\n",
       "      <td>0</td>\n",
       "      <td>M</td>\n",
       "      <td>Negroid</td>\n",
       "    </tr>\n",
       "    <tr>\n",
       "      <th>2</th>\n",
       "      <td>45-54</td>\n",
       "      <td>Anxiousness associated with Depression</td>\n",
       "      <td>5</td>\n",
       "      <td>no side effects</td>\n",
       "      <td>5</td>\n",
       "      <td>0</td>\n",
       "      <td>M</td>\n",
       "      <td>Mongoloid</td>\n",
       "    </tr>\n",
       "    <tr>\n",
       "      <th>3</th>\n",
       "      <td>35-44</td>\n",
       "      <td>Anxiousness associated with Depression</td>\n",
       "      <td>3</td>\n",
       "      <td>moderate side effects</td>\n",
       "      <td>2</td>\n",
       "      <td>0</td>\n",
       "      <td>M</td>\n",
       "      <td>Caucasoid</td>\n",
       "    </tr>\n",
       "    <tr>\n",
       "      <th>4</th>\n",
       "      <td>55-64</td>\n",
       "      <td>Anxiousness associated with Depression</td>\n",
       "      <td>3</td>\n",
       "      <td>moderate side effects</td>\n",
       "      <td>1</td>\n",
       "      <td>1</td>\n",
       "      <td>M</td>\n",
       "      <td>Negroid</td>\n",
       "    </tr>\n",
       "  </tbody>\n",
       "</table>\n",
       "</div>"
      ],
      "text/plain": [
       "     Age                               Condition  EaseofUse  \\\n",
       "0    3-6               Major Depressive Disorder          5   \n",
       "1  45-54            Repeated Episodes of Anxiety          3   \n",
       "2  45-54  Anxiousness associated with Depression          5   \n",
       "3  35-44  Anxiousness associated with Depression          3   \n",
       "4  55-64  Anxiousness associated with Depression          3   \n",
       "\n",
       "                 Effectiveness  Satisfaction  UsefulCount Sex       Race  \n",
       "0              no side effects             5           12   M  Caucasoid  \n",
       "1  extreme severe side effects             1            0   M    Negroid  \n",
       "2              no side effects             5            0   M  Mongoloid  \n",
       "3        moderate side effects             2            0   M  Caucasoid  \n",
       "4        moderate side effects             1            1   M    Negroid  "
      ]
     },
     "execution_count": 153,
     "metadata": {},
     "output_type": "execute_result"
    }
   ],
   "source": [
    "data.head()"
   ]
  },
  {
   "cell_type": "markdown",
   "metadata": {},
   "source": [
    "# DATA VISUALIZATION"
   ]
  },
  {
   "cell_type": "markdown",
   "metadata": {},
   "source": [
    "# COUNTPLOT OF EFFECTIVENESS"
   ]
  },
  {
   "cell_type": "code",
   "execution_count": 154,
   "metadata": {},
   "outputs": [
    {
     "data": {
      "image/png": "[encoded data removed]",
      "text/plain": [
       "<Figure size 432x288 with 1 Axes>"
      ]
     },
     "metadata": {},
     "output_type": "display_data"
    }
   ],
   "source": [
    "sns.countplot(data['Effectiveness'],data=data)\n",
    "plt.xticks(rotation=45)\n",
    "plt.show()"
   ]
  },
  {
   "cell_type": "markdown",
   "metadata": {},
   "source": [
    "# PIE CHART SHOWING PERCENTAGE OF EFFECTIVENESS OF DRUG"
   ]
  },
  {
   "cell_type": "code",
   "execution_count": 155,
   "metadata": {},
   "outputs": [
    {
     "data": {
      "image/png": "[encoded data removed]",
      "text/plain": [
       "<Figure size 1152x576 with 1 Axes>"
      ]
     },
     "metadata": {},
     "output_type": "display_data"
    }
   ],
   "source": [
    "plt.figure(figsize=(16,8))\n",
    "plt.title('PERCENTAGE OF EFFECTIVENESS OF DRUG',fontsize=20)\n",
    "tr = pd.DataFrame(data['Effectiveness'].value_counts())\n",
    "tr_names = tr.index\n",
    "count = tr['Effectiveness']\n",
    "plt.style.use('ggplot')\n",
    "plt.rc('font', size=10)\n",
    "plt.pie(count, autopct='%1.1f%%', labels = tr_names, pctdistance=0.9, labeldistance=1.1,shadow=True, startangle=90)\n",
    "plt.show()"
   ]
  },
  {
   "cell_type": "markdown",
   "metadata": {},
   "source": [
    "# PIE CHART SHOWING PERCENTAGE OF CONDITIONS OF PATIENTS USING DRUG"
   ]
  },
  {
   "cell_type": "code",
   "execution_count": 156,
   "metadata": {},
   "outputs": [
    {
     "data": {
      "image/png": "[encoded data removed]",
      "text/plain": [
       "<Figure size 1152x576 with 1 Axes>"
      ]
     },
     "metadata": {},
     "output_type": "display_data"
    }
   ],
   "source": [
    "plt.figure(figsize=(16,8))\n",
    "plt.title('PERCENTAGE OF CONDITIONS OF PATIENTS USING DRUG',fontsize=20)\n",
    "tr = pd.DataFrame(data['Condition'].value_counts())\n",
    "tr_names = tr.index\n",
    "count = tr['Condition']\n",
    "plt.style.use('ggplot')\n",
    "plt.rc('font', size=13)\n",
    "plt.pie(count, autopct='%1.1f%%', labels = tr_names, pctdistance=0.9, labeldistance=1.1)\n",
    "plt.show()"
   ]
  },
  {
   "cell_type": "code",
   "execution_count": 157,
   "metadata": {},
   "outputs": [
    {
     "data": {
      "image/png": "[encoded data removed]",
      "text/plain": [
       "<Figure size 432x288 with 1 Axes>"
      ]
     },
     "metadata": {},
     "output_type": "display_data"
    }
   ],
   "source": [
    "sns.set(style=\"white\")\n",
    "ax = sns.countplot(x='Condition',  data=data)\n",
    "plt.xticks(rotation=90)\n",
    "plt.show()"
   ]
  },
  {
   "cell_type": "markdown",
   "metadata": {},
   "source": [
    "# PIE CHART PLOTTING SIDE EFFECTS ON PATIENTS WITH THE CONDITION MAJOR DEPRESSIVE DISORDER"
   ]
  },
  {
   "cell_type": "code",
   "execution_count": 158,
   "metadata": {},
   "outputs": [],
   "source": [
    "datac1=data.loc[(data['Condition']==\"Major Depressive Disorder\")]"
   ]
  },
  {
   "cell_type": "code",
   "execution_count": 159,
   "metadata": {},
   "outputs": [
    {
     "data": {
      "image/png": "[encoded data removed]",
      "text/plain": [
       "<Figure size 1008x576 with 1 Axes>"
      ]
     },
     "metadata": {},
     "output_type": "display_data"
    }
   ],
   "source": [
    "tr = pd.DataFrame(datac1['Effectiveness'].value_counts())[:5]\n",
    "tr_names = tr.index\n",
    "count = tr['Effectiveness']\n",
    "plt.style.use('ggplot')\n",
    "plt.figure(figsize=(14,8))\n",
    "plt.title('PERCENTAGE OF SIDE EFFECTS ON PATIENTS WITH THE CONDITION MAJOR DEPRESSIVE DISORDER',fontsize=18)\n",
    "plt.rc('font', size=10)\n",
    "plt.pie(count, autopct='%1.0f%%', labels = tr_names, pctdistance=1.1, labeldistance=1.2)\n",
    "plt.show()"
   ]
  },
  {
   "cell_type": "markdown",
   "metadata": {},
   "source": [
    "# CATPLOT OF SATISFACTION WITH RESPECT TO SEX"
   ]
  },
  {
   "cell_type": "code",
   "execution_count": 160,
   "metadata": {},
   "outputs": [
    {
     "data": {
      "text/plain": [
       "<Figure size 1152x576 with 0 Axes>"
      ]
     },
     "metadata": {},
     "output_type": "display_data"
    },
    {
     "data": {
      "image/png": "[encoded data removed]",
      "text/plain": [
       "<Figure size 720x360 with 2 Axes>"
      ]
     },
     "metadata": {},
     "output_type": "display_data"
    }
   ],
   "source": [
    "plt.figure(figsize = (16,8))\n",
    "sns.catplot(x=\"Satisfaction\", col=\"Sex\",kind=\"count\",data=data)\n",
    "plt.show()"
   ]
  },
  {
   "cell_type": "code",
   "execution_count": 161,
   "metadata": {},
   "outputs": [
    {
     "data": {
      "text/plain": [
       "<seaborn.axisgrid.FacetGrid at 0x57d2400>"
      ]
     },
     "execution_count": 161,
     "metadata": {},
     "output_type": "execute_result"
    },
    {
     "data": {
      "image/png": "[encoded data removed]",
      "text/plain": [
       "<Figure size 523.6x432 with 1 Axes>"
      ]
     },
     "metadata": {},
     "output_type": "display_data"
    }
   ],
   "source": [
    "sns.FacetGrid(data, hue=\"Race\", size=6) \\\n",
    "   .map(sns.kdeplot, \"Satisfaction\") \\\n",
    "   .add_legend()"
   ]
  },
  {
   "cell_type": "markdown",
   "metadata": {},
   "source": [
    "# COUNT PLOT DISPLAYING THE AGE GROUPS AND THEIR SEX"
   ]
  },
  {
   "cell_type": "code",
   "execution_count": 162,
   "metadata": {},
   "outputs": [
    {
     "data": {
      "text/plain": [
       "<module 'matplotlib.pyplot' from 'C:\\\\Users\\\\Nabeel\\\\anaconda3\\\\lib\\\\site-packages\\\\matplotlib\\\\pyplot.py'>"
      ]
     },
     "execution_count": 162,
     "metadata": {},
     "output_type": "execute_result"
    },
    {
     "data": {
      "image/png": "[encoded data removed]",
      "text/plain": [
       "<Figure size 1152x432 with 1 Axes>"
      ]
     },
     "metadata": {},
     "output_type": "display_data"
    }
   ],
   "source": [
    "plt.figure(figsize=(16, 6))\n",
    "AS = sns.countplot(x=\"Age\",hue = \"Sex\" ,edgecolor=sns.color_palette(\"pastel\", 5),data=data,\n",
    "                   linewidth=5)\n",
    "plt"
   ]
  },
  {
   "cell_type": "markdown",
   "metadata": {},
   "source": [
    "# PIE CHART PLOTTED WITH PERCENTAGE EFFECTIVNESS OF DRUG IN VARIOUS AGE GROUPS"
   ]
  },
  {
   "cell_type": "code",
   "execution_count": 163,
   "metadata": {},
   "outputs": [],
   "source": [
    "dataage1=data.loc[(data['Age']==\"0-2\")]"
   ]
  },
  {
   "cell_type": "code",
   "execution_count": 164,
   "metadata": {},
   "outputs": [
    {
     "data": {
      "image/png": "[encoded data removed]",
      "text/plain": [
       "<Figure size 432x432 with 1 Axes>"
      ]
     },
     "metadata": {},
     "output_type": "display_data"
    }
   ],
   "source": [
    "tr = pd.DataFrame(dataage1['Effectiveness'].value_counts())[:5]\n",
    "tr_names = tr.index\n",
    "count = tr['Effectiveness']\n",
    "plt.style.use('ggplot')\n",
    "plt.figure(figsize=(6,6))\n",
    "plt.title('PERCENTAGE OF PATIENTS WITH SIDE EFFECTS IN AGE GROUP 0-2')\n",
    "plt.rc('font', size=10)\n",
    "plt.pie(count, autopct='%1.0f%%', labels = tr_names, pctdistance=1.1, labeldistance=1.2)\n",
    "plt.show()"
   ]
  },
  {
   "cell_type": "code",
   "execution_count": 165,
   "metadata": {},
   "outputs": [],
   "source": [
    "dataage2=data.loc[(data['Age']==\"13-18\")]"
   ]
  },
  {
   "cell_type": "code",
   "execution_count": 166,
   "metadata": {},
   "outputs": [
    {
     "data": {
      "image/png": "[encoded data removed]",
      "text/plain": [
       "<Figure size 432x432 with 1 Axes>"
      ]
     },
     "metadata": {},
     "output_type": "display_data"
    }
   ],
   "source": [
    "tr = pd.DataFrame(dataage2['Effectiveness'].value_counts())[:5]\n",
    "tr_names = tr.index\n",
    "count = tr['Effectiveness']\n",
    "plt.style.use('ggplot')\n",
    "plt.figure(figsize=(6,6))\n",
    "plt.title('PERCENTAGE OF PATIENTS WITH SIDE EFFECTS IN AGE GROUP 13-18')\n",
    "plt.rc('font', size=10)\n",
    "plt.pie(count, autopct='%1.0f%%', labels = tr_names, pctdistance=1.1, labeldistance=1.2)\n",
    "plt.show()"
   ]
  },
  {
   "cell_type": "code",
   "execution_count": 167,
   "metadata": {},
   "outputs": [],
   "source": [
    "dataage3=data.loc[(data['Age']==\"19-24\")]"
   ]
  },
  {
   "cell_type": "code",
   "execution_count": 168,
   "metadata": {},
   "outputs": [
    {
     "data": {
      "image/png": "[encoded data removed]",
      "text/plain": [
       "<Figure size 432x432 with 1 Axes>"
      ]
     },
     "metadata": {},
     "output_type": "display_data"
    }
   ],
   "source": [
    "tr = pd.DataFrame(dataage3['Effectiveness'].value_counts())[:5]\n",
    "tr_names = tr.index\n",
    "count = tr['Effectiveness']\n",
    "plt.style.use('ggplot')\n",
    "plt.figure(figsize=(6,6))\n",
    "plt.title('PERCENTAGE OF PATIENTS WITH SIDE EFFECTS IN AGE GROUP 19-24')\n",
    "plt.rc('font', size=10)\n",
    "plt.pie(count, autopct='%1.0f%%', labels = tr_names, pctdistance=1.1, labeldistance=1.2)\n",
    "plt.show()"
   ]
  },
  {
   "cell_type": "code",
   "execution_count": 169,
   "metadata": {},
   "outputs": [],
   "source": [
    "dataage4=data.loc[(data['Age']==\"25-34\")]"
   ]
  },
  {
   "cell_type": "code",
   "execution_count": 170,
   "metadata": {},
   "outputs": [
    {
     "data": {
      "image/png": "[encoded data removed]",
      "text/plain": [
       "<Figure size 432x432 with 1 Axes>"
      ]
     },
     "metadata": {},
     "output_type": "display_data"
    }
   ],
   "source": [
    "tr = pd.DataFrame(dataage4['Effectiveness'].value_counts())[:5]\n",
    "tr_names = tr.index\n",
    "count = tr['Effectiveness']\n",
    "plt.style.use('ggplot')\n",
    "plt.figure(figsize=(6,6))\n",
    "plt.title('PERCENTAGE OF PATIENTS WITH SIDE EFFECTS IN AGE GROUP 25-34')\n",
    "plt.rc('font', size=10)\n",
    "plt.pie(count, autopct='%1.0f%%', labels = tr_names, pctdistance=1.1, labeldistance=1.2)\n",
    "plt.show()"
   ]
  },
  {
   "cell_type": "code",
   "execution_count": 171,
   "metadata": {},
   "outputs": [],
   "source": [
    "dataage5=data.loc[(data['Age']==\"35-44\")]"
   ]
  },
  {
   "cell_type": "code",
   "execution_count": 172,
   "metadata": {},
   "outputs": [
    {
     "data": {
      "image/png": "[encoded data removed]",
      "text/plain": [
       "<Figure size 432x432 with 1 Axes>"
      ]
     },
     "metadata": {},
     "output_type": "display_data"
    }
   ],
   "source": [
    "tr = pd.DataFrame(dataage5['Effectiveness'].value_counts())[:5]\n",
    "tr_names = tr.index\n",
    "count = tr['Effectiveness']\n",
    "plt.style.use('ggplot')\n",
    "plt.figure(figsize=(6,6))\n",
    "plt.title('PERCENTAGE OF PATIENTS WITH SIDE EFFECTS IN AGE GROUP 35-44')\n",
    "plt.rc('font', size=10)\n",
    "plt.pie(count, autopct='%1.0f%%', labels = tr_names, pctdistance=1.1, labeldistance=1.2)\n",
    "plt.show()"
   ]
  },
  {
   "cell_type": "code",
   "execution_count": 173,
   "metadata": {},
   "outputs": [],
   "source": [
    "dataage6=data.loc[(data['Age']==\"45-54\")]"
   ]
  },
  {
   "cell_type": "code",
   "execution_count": 174,
   "metadata": {},
   "outputs": [
    {
     "data": {
      "image/png": "[encoded data removed]",
      "text/plain": [
       "<Figure size 432x432 with 1 Axes>"
      ]
     },
     "metadata": {},
     "output_type": "display_data"
    }
   ],
   "source": [
    "tr = pd.DataFrame(dataage6['Effectiveness'].value_counts())[:5]\n",
    "tr_names = tr.index\n",
    "count = tr['Effectiveness']\n",
    "plt.style.use('ggplot')\n",
    "plt.figure(figsize=(6,6))\n",
    "plt.title('% of patients having side effects in age group 45-54')\n",
    "plt.rc('font', size=10)\n",
    "plt.pie(count, autopct='%1.0f%%', labels = tr_names, pctdistance=1.1, labeldistance=1.2)\n",
    "plt.show()"
   ]
  },
  {
   "cell_type": "code",
   "execution_count": 175,
   "metadata": {},
   "outputs": [],
   "source": [
    "dataage7=data.loc[(data['Age']==\"65-74\")]"
   ]
  },
  {
   "cell_type": "code",
   "execution_count": 176,
   "metadata": {},
   "outputs": [
    {
     "data": {
      "image/png": "[encoded data removed]",
      "text/plain": [
       "<Figure size 432x432 with 1 Axes>"
      ]
     },
     "metadata": {},
     "output_type": "display_data"
    }
   ],
   "source": [
    "tr = pd.DataFrame(dataage7['Effectiveness'].value_counts())[:5]\n",
    "tr_names = tr.index\n",
    "count = tr['Effectiveness']\n",
    "plt.style.use('ggplot')\n",
    "plt.figure(figsize=(6,6))\n",
    "plt.title('PERCENTAGE OF PATIENTS WITH SIDE EFFECTS IN AGE GROUP 65-74')\n",
    "plt.rc('font', size=10)\n",
    "plt.pie(count, autopct='%1.0f%%', labels = tr_names, pctdistance=1.1, labeldistance=1.2)\n",
    "plt.show()"
   ]
  },
  {
   "cell_type": "code",
   "execution_count": 177,
   "metadata": {},
   "outputs": [],
   "source": [
    "dataage8=data.loc[(data['Age']==\"75 or over\")]"
   ]
  },
  {
   "cell_type": "code",
   "execution_count": 178,
   "metadata": {},
   "outputs": [
    {
     "data": {
      "image/png": "[encoded data removed]",
      "text/plain": [
       "<Figure size 432x432 with 1 Axes>"
      ]
     },
     "metadata": {},
     "output_type": "display_data"
    }
   ],
   "source": [
    "tr = pd.DataFrame(dataage8['Effectiveness'].value_counts())[:5]\n",
    "tr_names = tr.index\n",
    "count = tr['Effectiveness']\n",
    "plt.style.use('ggplot')\n",
    "plt.figure(figsize=(6,6))\n",
    "plt.title('PERCENTAGE OF PATIENTS WITH SIDE EFFECTS IN AGE GROUP 75+ ')\n",
    "plt.rc('font', size=10)\n",
    "plt.pie(count, autopct='%1.0f%%', labels = tr_names, pctdistance=1.1, labeldistance=1.2)\n",
    "plt.show()"
   ]
  },
  {
   "cell_type": "markdown",
   "metadata": {},
   "source": [
    "# LABEL ENCODING"
   ]
  },
  {
   "cell_type": "code",
   "execution_count": 179,
   "metadata": {},
   "outputs": [],
   "source": [
    "from sklearn.preprocessing import LabelEncoder\n",
    "label=LabelEncoder()\n",
    "for col in [\"Age\",\"Condition\",\"Sex\",\"Race\"]:\n",
    "    data[col]=label.fit_transform(data[col])\n",
    "datastand=data"
   ]
  },
  {
   "cell_type": "markdown",
   "metadata": {},
   "source": [
    "# DATA SPLITTING"
   ]
  },
  {
   "cell_type": "code",
   "execution_count": 180,
   "metadata": {},
   "outputs": [],
   "source": [
    "y=data['Effectiveness']\n",
    "x=data.drop(['Effectiveness'],axis=1)\n",
    "x1=x\n",
    "x2=x"
   ]
  },
  {
   "cell_type": "code",
   "execution_count": 181,
   "metadata": {},
   "outputs": [],
   "source": [
    "from sklearn.model_selection import train_test_split\n",
    "x_train,x_test,y_train,y_test=train_test_split(x,y,random_state=42,test_size=0.1)"
   ]
  },
  {
   "cell_type": "code",
   "execution_count": 182,
   "metadata": {},
   "outputs": [],
   "source": [
    "from sklearn.metrics import accuracy_score,precision_score,f1_score,confusion_matrix"
   ]
  },
  {
   "cell_type": "markdown",
   "metadata": {},
   "source": [
    "# MODEL SELECTION"
   ]
  },
  {
   "cell_type": "markdown",
   "metadata": {},
   "source": [
    "# 1.1 Logistic Regression"
   ]
  },
  {
   "cell_type": "code",
   "execution_count": 183,
   "metadata": {},
   "outputs": [],
   "source": [
    "from sklearn.linear_model import LogisticRegression\n",
    "logic=LogisticRegression()\n",
    "logic.fit(x_train,y_train)\n",
    "y_logic=logic.predict(x_test)"
   ]
  },
  {
   "cell_type": "code",
   "execution_count": 184,
   "metadata": {},
   "outputs": [
    {
     "name": "stdout",
     "output_type": "stream",
     "text": [
      "Accuracy is:  56.233421750663126\n",
      "Confusion Matrix:  [[49  1  3  1  0]\n",
      " [ 6 37  8 44  0]\n",
      " [14 32 28  6  1]\n",
      " [ 3 12  2 98  0]\n",
      " [16  3 13  0  0]]\n"
     ]
    }
   ],
   "source": [
    "print(\"Accuracy is: \",accuracy_score(y_test,y_logic)*100)\n",
    "print(\"Confusion Matrix: \",confusion_matrix(y_test,y_logic))"
   ]
  },
  {
   "cell_type": "markdown",
   "metadata": {},
   "source": [
    "# 1.2 KNN"
   ]
  },
  {
   "cell_type": "code",
   "execution_count": 185,
   "metadata": {},
   "outputs": [],
   "source": [
    "from sklearn.neighbors import KNeighborsClassifier\n",
    "classifier=KNeighborsClassifier(n_neighbors=5, metric='minkowski')\n",
    "classifier.fit(x_train,y_train)\n",
    "y_pred=classifier.predict(x_test)\n",
    "acc=accuracy_score(y_test,y_pred)"
   ]
  },
  {
   "cell_type": "code",
   "execution_count": 186,
   "metadata": {},
   "outputs": [
    {
     "name": "stdout",
     "output_type": "stream",
     "text": [
      "Accuracy is:  51.9893899204244\n",
      "confusion matrix is [[41  2  7  1  3]\n",
      " [ 6 40 17 29  3]\n",
      " [15 29 26  3  8]\n",
      " [ 2 20  4 88  1]\n",
      " [17  2  9  3  1]]\n"
     ]
    }
   ],
   "source": [
    "print(\"Accuracy is: \",accuracy_score(y_test,y_pred)*100)\n",
    "print(\"confusion matrix is\",confusion_matrix(y_test,y_pred))"
   ]
  },
  {
   "cell_type": "markdown",
   "metadata": {},
   "source": [
    "# 1.3 Linear SVM"
   ]
  },
  {
   "cell_type": "code",
   "execution_count": 187,
   "metadata": {},
   "outputs": [],
   "source": [
    "from sklearn.svm import LinearSVC\n",
    "support=LinearSVC()\n",
    "support.fit(x_train,y_train)\n",
    "y_support=support.predict(x_test)"
   ]
  },
  {
   "cell_type": "code",
   "execution_count": 188,
   "metadata": {},
   "outputs": [
    {
     "name": "stdout",
     "output_type": "stream",
     "text": [
      "Accuracy is:  55.96816976127321\n",
      "confusion matrix is [[ 50   0   1   3   0]\n",
      " [  7  30   5  53   0]\n",
      " [ 14  20  25  22   0]\n",
      " [  3   6   0 106   0]\n",
      " [ 16   1  13   2   0]]\n"
     ]
    }
   ],
   "source": [
    "print(\"Accuracy is: \",accuracy_score(y_test,y_support)*100)\n",
    "print(\"confusion matrix is\",confusion_matrix(y_test,y_support))"
   ]
  },
  {
   "cell_type": "markdown",
   "metadata": {},
   "source": [
    "# 1.4 Decision Tree"
   ]
  },
  {
   "cell_type": "code",
   "execution_count": 192,
   "metadata": {},
   "outputs": [
    {
     "name": "stdout",
     "output_type": "stream",
     "text": [
      "Accuracy is:  48.80636604774536\n",
      "confusion matrix is [[24  6 15  3  6]\n",
      " [ 2 35 20 36  2]\n",
      " [11 19 36  9  6]\n",
      " [ 0 26  7 80  2]\n",
      " [10  3  8  2  9]]\n"
     ]
    }
   ],
   "source": [
    "from sklearn.tree import DecisionTreeClassifier\n",
    "decision=DecisionTreeClassifier()\n",
    "decision.fit(x_train,y_train)\n",
    "decision=decision.predict(x_test)\n",
    "print(\"Accuracy is: \",accuracy_score(y_test,y_decisionfine)*100)\n",
    "print(\"confusion matrix is\",confusion_matrix(y_test,y_decisionfine))"
   ]
  },
  {
   "cell_type": "markdown",
   "metadata": {},
   "source": [
    "FINE TUNING"
   ]
  },
  {
   "cell_type": "code",
   "execution_count": 193,
   "metadata": {},
   "outputs": [
    {
     "data": {
      "text/plain": [
       "DecisionTreeClassifier(max_depth=100, random_state=42)"
      ]
     },
     "execution_count": 193,
     "metadata": {},
     "output_type": "execute_result"
    }
   ],
   "source": [
    "decisionfine=DecisionTreeClassifier(max_depth=100,random_state=42)\n",
    "decisionfine.fit(x_train,y_train)"
   ]
  },
  {
   "cell_type": "code",
   "execution_count": 194,
   "metadata": {},
   "outputs": [
    {
     "name": "stdout",
     "output_type": "stream",
     "text": [
      "Accuracy is:  48.80636604774536\n",
      "confusion matrix is [[24  6 15  3  6]\n",
      " [ 2 35 20 36  2]\n",
      " [11 19 36  9  6]\n",
      " [ 0 26  7 80  2]\n",
      " [10  3  8  2  9]]\n"
     ]
    }
   ],
   "source": [
    "y_decisionfine=decisionfine.predict(x_test)\n",
    "print(\"Accuracy is: \",accuracy_score(y_test,y_decisionfine)*100)\n",
    "print(\"confusion matrix is\",confusion_matrix(y_test,y_decisionfine))"
   ]
  },
  {
   "cell_type": "markdown",
   "metadata": {},
   "source": [
    "# 1.5 Random Forest"
   ]
  },
  {
   "cell_type": "code",
   "execution_count": 195,
   "metadata": {},
   "outputs": [
    {
     "data": {
      "text/plain": [
       "RandomForestClassifier()"
      ]
     },
     "execution_count": 195,
     "metadata": {},
     "output_type": "execute_result"
    }
   ],
   "source": [
    "from sklearn.ensemble import RandomForestClassifier\n",
    "rand=RandomForestClassifier()\n",
    "rand.fit(x_train,y_train)"
   ]
  },
  {
   "cell_type": "code",
   "execution_count": 196,
   "metadata": {},
   "outputs": [
    {
     "name": "stdout",
     "output_type": "stream",
     "text": [
      "accuracy is 0.5596816976127321\n",
      "confusion matrix is [[36  2 10  3  3]\n",
      " [ 4 44 12 29  6]\n",
      " [10 23 37  3  8]\n",
      " [ 1 16  6 90  2]\n",
      " [13  4 10  1  4]]\n"
     ]
    }
   ],
   "source": [
    "y_rand=rand.predict(x_test)\n",
    "print(\"accuracy is\",accuracy_score(y_test,y_rand))\n",
    "print(\"confusion matrix is\",confusion_matrix(y_test,y_rand))"
   ]
  },
  {
   "cell_type": "markdown",
   "metadata": {},
   "source": [
    "FINE TUNING OF PARAMETRES"
   ]
  },
  {
   "cell_type": "code",
   "execution_count": 197,
   "metadata": {},
   "outputs": [
    {
     "name": "stdout",
     "output_type": "stream",
     "text": [
      "Accuracy is:  0.5623342175066313\n",
      "confusion matrix is [[38  2 10  2  2]\n",
      " [ 5 44 14 27  5]\n",
      " [10 25 37  1  8]\n",
      " [ 1 17  6 89  2]\n",
      " [13  3 11  1  4]]\n"
     ]
    }
   ],
   "source": [
    "randfine=RandomForestClassifier(max_depth=100,n_estimators=100)\n",
    "randfine.fit(x_train,y_train)\n",
    "y_randfine=randfine.predict(x_test)\n",
    "print(\"Accuracy is: \",accuracy_score(y_test,y_randfine))\n",
    "print(\"confusion matrix is\",confusion_matrix(y_test,y_randfine))"
   ]
  },
  {
   "cell_type": "markdown",
   "metadata": {},
   "source": [
    "# 1.6 Gradient Boosting"
   ]
  },
  {
   "cell_type": "code",
   "execution_count": 198,
   "metadata": {},
   "outputs": [
    {
     "data": {
      "text/plain": [
       "GradientBoostingClassifier()"
      ]
     },
     "execution_count": 198,
     "metadata": {},
     "output_type": "execute_result"
    }
   ],
   "source": [
    "from sklearn.ensemble import GradientBoostingClassifier\n",
    "grad=GradientBoostingClassifier()\n",
    "grad.fit(x_train,y_train)"
   ]
  },
  {
   "cell_type": "code",
   "execution_count": 204,
   "metadata": {},
   "outputs": [
    {
     "name": "stdout",
     "output_type": "stream",
     "text": [
      "Accuracy is:  63.660477453580896\n",
      "confusion matrix is [[46  1  4  1  2]\n",
      " [ 7 48 17 22  1]\n",
      " [12 18 47  1  3]\n",
      " [ 3 11  8 93  0]\n",
      " [15  1  9  1  6]]\n"
     ]
    }
   ],
   "source": [
    "y_grad=grad.predict(x_test)\n",
    "print(\"Accuracy is: \",accuracy_score(y_test,y_grad)*100)\n",
    "print(\"confusion matrix is\",confusion_matrix(y_test,y_grad))"
   ]
  },
  {
   "cell_type": "markdown",
   "metadata": {},
   "source": [
    "# 1.7 XG BOOSTING"
   ]
  },
  {
   "cell_type": "code",
   "execution_count": 205,
   "metadata": {},
   "outputs": [
    {
     "name": "stdout",
     "output_type": "stream",
     "text": [
      "[13:07:52] WARNING: C:/Users/Administrator/workspace/xgboost-win64_release_1.3.0/src/learner.cc:1061: Starting in XGBoost 1.3.0, the default evaluation metric used with the objective 'multi:softprob' was changed from 'merror' to 'mlogloss'. Explicitly set eval_metric if you'd like to restore the old behavior.\n"
     ]
    }
   ],
   "source": [
    "from xgboost import XGBClassifier\n",
    "extr=XGBClassifier()\n",
    "extr.fit(x_train,y_train)\n",
    "y_extr=extr.predict(x_test)"
   ]
  },
  {
   "cell_type": "code",
   "execution_count": 207,
   "metadata": {},
   "outputs": [
    {
     "name": "stdout",
     "output_type": "stream",
     "text": [
      "Accuracy is:  58.88594164456234\n",
      "confusion matrix is [[38  2  8  2  4]\n",
      " [ 6 50 16 20  3]\n",
      " [10 22 38  3  8]\n",
      " [ 2 16  5 91  1]\n",
      " [13  4  8  2  5]]\n"
     ]
    }
   ],
   "source": [
    "print(\"Accuracy is: \",accuracy_score(y_test,y_extr)*100)\n",
    "print(\"confusion matrix is\",confusion_matrix(y_test,y_extr))"
   ]
  },
  {
   "cell_type": "markdown",
   "metadata": {},
   "source": [
    "# 1.8 Bernoulli Naive bayes"
   ]
  },
  {
   "cell_type": "code",
   "execution_count": 202,
   "metadata": {},
   "outputs": [],
   "source": [
    "from sklearn.naive_bayes import BernoulliNB\n",
    "BNB=BernoulliNB()\n",
    "BNB.fit(x_train,y_train)\n",
    "y_bnb=BNB.predict(x_test)"
   ]
  },
  {
   "cell_type": "code",
   "execution_count": 208,
   "metadata": {},
   "outputs": [
    {
     "name": "stdout",
     "output_type": "stream",
     "text": [
      "Accuracy is:  31.56498673740053\n",
      "confusion matrix is [[  0   0   3  51   0]\n",
      " [  0   0  12  83   0]\n",
      " [  0   0  11  70   0]\n",
      " [  0   0   7 108   0]\n",
      " [  0   0   6  26   0]]\n"
     ]
    }
   ],
   "source": [
    "print(\"Accuracy is: \",accuracy_score(y_test,y_bnb)*100)\n",
    "print(\"confusion matrix is\",confusion_matrix(y_test,y_bnb))"
   ]
  },
  {
   "cell_type": "markdown",
   "metadata": {},
   "source": [
    "# 2 - STANDARDISATION"
   ]
  },
  {
   "cell_type": "code",
   "execution_count": null,
   "metadata": {},
   "outputs": [],
   "source": [
    "from sklearn.preprocessing import StandardScaler\n",
    "stand=StandardScaler()\n",
    "x=stand.fit_transform(x)"
   ]
  },
  {
   "cell_type": "code",
   "execution_count": null,
   "metadata": {},
   "outputs": [],
   "source": [
    "x_train,x_test,y_train,y_test=train_test_split(x,y,test_size=0.1,random_state=42)"
   ]
  },
  {
   "cell_type": "markdown",
   "metadata": {},
   "source": [
    "# 2.1 - LOGISTIC REGRESSION"
   ]
  },
  {
   "cell_type": "code",
   "execution_count": 209,
   "metadata": {},
   "outputs": [],
   "source": [
    "logic1=LogisticRegression()\n",
    "logic1.fit(x_train,y_train)\n",
    "y_logic1=logic1.predict(x_test)"
   ]
  },
  {
   "cell_type": "code",
   "execution_count": 211,
   "metadata": {},
   "outputs": [
    {
     "name": "stdout",
     "output_type": "stream",
     "text": [
      "Accuracy is:  56.233421750663126\n"
     ]
    }
   ],
   "source": [
    "print(\"Accuracy is: \",accuracy_score(y_test,y_logic1)*100)"
   ]
  },
  {
   "cell_type": "markdown",
   "metadata": {},
   "source": [
    "# 2.2 - KNN"
   ]
  },
  {
   "cell_type": "code",
   "execution_count": 212,
   "metadata": {},
   "outputs": [
    {
     "name": "stdout",
     "output_type": "stream",
     "text": [
      "Accuracy is:  0.519893899204244\n"
     ]
    }
   ],
   "source": [
    "classifier1=KNeighborsClassifier(n_neighbors=5, metric='minkowski')\n",
    "classifier1.fit(x_train,y_train)\n",
    "y_pred1=classifier1.predict(x_test)\n",
    "acc=accuracy_score(y_test,y_pred1)\n",
    "print(\"Accuracy is: \",acc)"
   ]
  },
  {
   "cell_type": "markdown",
   "metadata": {},
   "source": [
    "# 2.3 - RANDOM FOREST"
   ]
  },
  {
   "cell_type": "code",
   "execution_count": 216,
   "metadata": {},
   "outputs": [
    {
     "name": "stdout",
     "output_type": "stream",
     "text": [
      "Accuracy is:  0.5649867374005305\n"
     ]
    }
   ],
   "source": [
    "rand1=RandomForestClassifier()\n",
    "rand1.fit(x_train,y_train)\n",
    "y_rand1=rand1.predict(x_test)\n",
    "acc=accuracy_score(y_test,y_rand1)\n",
    "print(\"Accuracy is: \",acc)"
   ]
  },
  {
   "cell_type": "markdown",
   "metadata": {},
   "source": [
    "# 2.4 - DECISION TREE"
   ]
  },
  {
   "cell_type": "code",
   "execution_count": 218,
   "metadata": {},
   "outputs": [
    {
     "name": "stdout",
     "output_type": "stream",
     "text": [
      "Accuracy is:  0.4854111405835544\n"
     ]
    }
   ],
   "source": [
    "decision1=DecisionTreeClassifier()\n",
    "decision1.fit(x_train,y_train)\n",
    "y_decision1=decision1.predict(x_test)\n",
    "acc=accuracy_score(y_test,y_decision1)\n",
    "print(\"Accuracy is: \",acc)"
   ]
  },
  {
   "cell_type": "markdown",
   "metadata": {},
   "source": [
    "FINE TUNING OF PARAMETERES"
   ]
  },
  {
   "cell_type": "code",
   "execution_count": 217,
   "metadata": {},
   "outputs": [
    {
     "name": "stdout",
     "output_type": "stream",
     "text": [
      "Accuracy is:  0.4880636604774536\n"
     ]
    }
   ],
   "source": [
    "decisionfine1=DecisionTreeClassifier(max_depth=100,random_state=42)\n",
    "decisionfine1.fit(x_train,y_train)\n",
    "y_decisionfine1=decisionfine1.predict(x_test)\n",
    "acc=accuracy_score(y_test,y_decisionfine1)\n",
    "print(\"Accuracy is: \",acc)"
   ]
  },
  {
   "cell_type": "markdown",
   "metadata": {},
   "source": [
    "# 2.4 - GRADIENT BOOSTING"
   ]
  },
  {
   "cell_type": "code",
   "execution_count": 219,
   "metadata": {},
   "outputs": [
    {
     "name": "stdout",
     "output_type": "stream",
     "text": [
      "Accuracy is:  0.636604774535809\n"
     ]
    }
   ],
   "source": [
    "grad1=GradientBoostingClassifier()\n",
    "grad1.fit(x_train,y_train)\n",
    "y_grad1=grad1.predict(x_test)\n",
    "acc=accuracy_score(y_test,y_grad1)\n",
    "print(\"Accuracy is: \",acc)"
   ]
  },
  {
   "cell_type": "markdown",
   "metadata": {},
   "source": [
    "# 2.5 - XG BOOSTING"
   ]
  },
  {
   "cell_type": "code",
   "execution_count": 220,
   "metadata": {},
   "outputs": [
    {
     "name": "stdout",
     "output_type": "stream",
     "text": [
      "[13:42:03] WARNING: C:/Users/Administrator/workspace/xgboost-win64_release_1.3.0/src/learner.cc:1061: Starting in XGBoost 1.3.0, the default evaluation metric used with the objective 'multi:softprob' was changed from 'merror' to 'mlogloss'. Explicitly set eval_metric if you'd like to restore the old behavior.\n"
     ]
    }
   ],
   "source": [
    "extr1=XGBClassifier()\n",
    "extr1.fit(x_train,y_train)\n",
    "y_extr1=extr1.predict(x_test)"
   ]
  },
  {
   "cell_type": "code",
   "execution_count": 221,
   "metadata": {},
   "outputs": [
    {
     "name": "stdout",
     "output_type": "stream",
     "text": [
      "Accuracy is:  0.5888594164456233\n"
     ]
    }
   ],
   "source": [
    "acc=accuracy_score(y_test,y_extr1)\n",
    "print(\"Accuracy is: \",acc)"
   ]
  },
  {
   "cell_type": "markdown",
   "metadata": {},
   "source": [
    "# 2.5 - BERNOULI NAIVE BAYES"
   ]
  },
  {
   "cell_type": "code",
   "execution_count": 222,
   "metadata": {},
   "outputs": [
    {
     "name": "stdout",
     "output_type": "stream",
     "text": [
      "Accuracy is:  0.3156498673740053\n"
     ]
    }
   ],
   "source": [
    "BNB1=BernoulliNB()\n",
    "BNB1.fit(x_train,y_train)\n",
    "y_bnb1=BNB1.predict(x_test)\n",
    "acc=accuracy_score(y_test,y_bnb1)\n",
    "print(\"Accuracy is: \",acc)"
   ]
  },
  {
   "cell_type": "markdown",
   "metadata": {},
   "source": [
    "# 3 - NORMALISATION"
   ]
  },
  {
   "cell_type": "code",
   "execution_count": 233,
   "metadata": {},
   "outputs": [],
   "source": [
    "from sklearn.preprocessing import Normalizer\n",
    "norm=Normalizer()\n",
    "x1=norm.fit_transform(x1)"
   ]
  },
  {
   "cell_type": "code",
   "execution_count": 234,
   "metadata": {},
   "outputs": [],
   "source": [
    "x1_train,x1_test,y_train,y_test=train_test_split(x1,y,test_size=0.1,random_state=42)"
   ]
  },
  {
   "cell_type": "markdown",
   "metadata": {},
   "source": [
    "# 3.1 - LOGISTIC REGRESSION"
   ]
  },
  {
   "cell_type": "code",
   "execution_count": 235,
   "metadata": {},
   "outputs": [
    {
     "name": "stdout",
     "output_type": "stream",
     "text": [
      "0.5119363395225465\n"
     ]
    }
   ],
   "source": [
    "logic2=LogisticRegression()\n",
    "logic2.fit(x1_train,y_train)\n",
    "y_logic2=logic2.predict(x1_test)\n",
    "print(accuracy_score(y_test,y_logic2))"
   ]
  },
  {
   "cell_type": "markdown",
   "metadata": {},
   "source": [
    "# 3.2 - KNN"
   ]
  },
  {
   "cell_type": "code",
   "execution_count": 226,
   "metadata": {},
   "outputs": [
    {
     "name": "stdout",
     "output_type": "stream",
     "text": [
      "Accuracy is:  0.4588859416445623\n"
     ]
    }
   ],
   "source": [
    "classifier2=KNeighborsClassifier(n_neighbors=5, metric='minkowski')\n",
    "classifier2.fit(x1_train,y_train)\n",
    "y_pred2=classifier2.predict(x1_test)\n",
    "acc=accuracy_score(y_test,y_pred2)\n",
    "print(\"Accuracy is: \",acc)"
   ]
  },
  {
   "cell_type": "markdown",
   "metadata": {},
   "source": [
    "# 3.3 - DECISION TREE "
   ]
  },
  {
   "cell_type": "code",
   "execution_count": 227,
   "metadata": {},
   "outputs": [
    {
     "name": "stdout",
     "output_type": "stream",
     "text": [
      "Accuracy is:  0.44297082228116713\n"
     ]
    }
   ],
   "source": [
    "decision2=DecisionTreeClassifier()\n",
    "decision2.fit(x1_train,y_train)\n",
    "y_decision2=decision2.predict(x1_test)\n",
    "acc=accuracy_score(y_test,y_decision2)\n",
    "print(\"Accuracy is: \",acc)"
   ]
  },
  {
   "cell_type": "markdown",
   "metadata": {},
   "source": [
    "# 3.4 - RANDOM FOREST"
   ]
  },
  {
   "cell_type": "code",
   "execution_count": 228,
   "metadata": {},
   "outputs": [
    {
     "name": "stdout",
     "output_type": "stream",
     "text": [
      "Accuracy is:  0.5702917771883289\n"
     ]
    }
   ],
   "source": [
    "rand2=RandomForestClassifier()\n",
    "rand2.fit(x1_train,y_train)\n",
    "y_rand2=rand2.predict(x1_test)\n",
    "acc=accuracy_score(y_test,y_rand2)\n",
    "print(\"Accuracy is: \",acc)"
   ]
  },
  {
   "cell_type": "code",
   "execution_count": 229,
   "metadata": {},
   "outputs": [
    {
     "name": "stdout",
     "output_type": "stream",
     "text": [
      "Accuracy is:  0.5676392572944297\n"
     ]
    }
   ],
   "source": [
    "randfine2=RandomForestClassifier(max_depth=100,n_estimators=100)\n",
    "randfine2.fit(x1_train,y_train)\n",
    "y_randfine2=randfine2.predict(x1_test)\n",
    "print(\"Accuracy is: \",accuracy_score(y_test,y_randfine2))"
   ]
  },
  {
   "cell_type": "markdown",
   "metadata": {},
   "source": [
    "# 3.5 GRADIENT BOOSTING"
   ]
  },
  {
   "cell_type": "code",
   "execution_count": 230,
   "metadata": {},
   "outputs": [
    {
     "name": "stdout",
     "output_type": "stream",
     "text": [
      "Accuracy is:  0.5915119363395226\n"
     ]
    }
   ],
   "source": [
    "grad2=GradientBoostingClassifier()\n",
    "grad2.fit(x1_train,y_train)\n",
    "y_grad2=grad2.predict(x1_test)\n",
    "acc=accuracy_score(y_test,y_grad2)\n",
    "print(\"Accuracy is: \",acc)"
   ]
  },
  {
   "cell_type": "markdown",
   "metadata": {},
   "source": [
    "# 3.6 XG BOOSTING"
   ]
  },
  {
   "cell_type": "code",
   "execution_count": 231,
   "metadata": {},
   "outputs": [
    {
     "name": "stdout",
     "output_type": "stream",
     "text": [
      "[13:56:28] WARNING: C:/Users/Administrator/workspace/xgboost-win64_release_1.3.0/src/learner.cc:1061: Starting in XGBoost 1.3.0, the default evaluation metric used with the objective 'multi:softprob' was changed from 'merror' to 'mlogloss'. Explicitly set eval_metric if you'd like to restore the old behavior.\n",
      "Accuracy is:  0.5702917771883289\n"
     ]
    }
   ],
   "source": [
    "extr2=XGBClassifier()\n",
    "extr2.fit(x1_train,y_train)\n",
    "y_extr2=extr2.predict(x1_test)\n",
    "acc=accuracy_score(y_test,y_extr2)\n",
    "print(\"Accuracy is: \",acc)"
   ]
  },
  {
   "cell_type": "markdown",
   "metadata": {},
   "source": [
    "# 3.7 BERNOULLI NAIVE BAYES"
   ]
  },
  {
   "cell_type": "code",
   "execution_count": 232,
   "metadata": {},
   "outputs": [
    {
     "name": "stdout",
     "output_type": "stream",
     "text": [
      "Accuracy is:  0.3156498673740053\n"
     ]
    }
   ],
   "source": [
    "BNB2=BernoulliNB()\n",
    "BNB2.fit(x1_train,y_train)\n",
    "y_bnb2=BNB2.predict(x1_test)\n",
    "acc=accuracy_score(y_test,y_bnb2)\n",
    "print(\"Accuracy is: \",acc)"
   ]
  },
  {
   "cell_type": "markdown",
   "metadata": {},
   "source": [
    "# EVALUATING MODEL"
   ]
  },
  {
   "cell_type": "code",
   "execution_count": 237,
   "metadata": {},
   "outputs": [
    {
     "data": {
      "text/plain": [
       "no side effects                115\n",
       "mild side effects               95\n",
       "moderate side effects           81\n",
       "extreme severe side effects     54\n",
       "severe side effects             32\n",
       "Name: Effectiveness, dtype: int64"
      ]
     },
     "execution_count": 237,
     "metadata": {},
     "output_type": "execute_result"
    }
   ],
   "source": [
    "y_test.value_counts()"
   ]
  },
  {
   "cell_type": "code",
   "execution_count": 243,
   "metadata": {},
   "outputs": [
    {
     "data": {
      "text/html": [
       "<div>\n",
       "<style scoped>\n",
       "    .dataframe tbody tr th:only-of-type {\n",
       "        vertical-align: middle;\n",
       "    }\n",
       "\n",
       "    .dataframe tbody tr th {\n",
       "        vertical-align: top;\n",
       "    }\n",
       "\n",
       "    .dataframe thead th {\n",
       "        text-align: right;\n",
       "    }\n",
       "</style>\n",
       "<table border=\"1\" class=\"dataframe\">\n",
       "  <thead>\n",
       "    <tr style=\"text-align: right;\">\n",
       "      <th></th>\n",
       "      <th>y_predicted</th>\n",
       "      <th>original</th>\n",
       "    </tr>\n",
       "  </thead>\n",
       "  <tbody>\n",
       "    <tr>\n",
       "      <th>3539</th>\n",
       "      <td>no side effects</td>\n",
       "      <td>no side effects</td>\n",
       "    </tr>\n",
       "    <tr>\n",
       "      <th>2992</th>\n",
       "      <td>moderate side effects</td>\n",
       "      <td>mild side effects</td>\n",
       "    </tr>\n",
       "    <tr>\n",
       "      <th>220</th>\n",
       "      <td>severe side effects</td>\n",
       "      <td>severe side effects</td>\n",
       "    </tr>\n",
       "    <tr>\n",
       "      <th>2971</th>\n",
       "      <td>mild side effects</td>\n",
       "      <td>mild side effects</td>\n",
       "    </tr>\n",
       "    <tr>\n",
       "      <th>1953</th>\n",
       "      <td>no side effects</td>\n",
       "      <td>no side effects</td>\n",
       "    </tr>\n",
       "  </tbody>\n",
       "</table>\n",
       "</div>"
      ],
      "text/plain": [
       "                y_predicted             original\n",
       "3539        no side effects      no side effects\n",
       "2992  moderate side effects    mild side effects\n",
       "220     severe side effects  severe side effects\n",
       "2971      mild side effects    mild side effects\n",
       "1953        no side effects      no side effects"
      ]
     },
     "execution_count": 243,
     "metadata": {},
     "output_type": "execute_result"
    }
   ],
   "source": [
    "df=pd.DataFrame({\"y_predicted\": y_grad,\"original\":y_test})\n",
    "df.head()"
   ]
  },
  {
   "cell_type": "code",
   "execution_count": 247,
   "metadata": {},
   "outputs": [
    {
     "data": {
      "text/html": [
       "<div>\n",
       "<style scoped>\n",
       "    .dataframe tbody tr th:only-of-type {\n",
       "        vertical-align: middle;\n",
       "    }\n",
       "\n",
       "    .dataframe tbody tr th {\n",
       "        vertical-align: top;\n",
       "    }\n",
       "\n",
       "    .dataframe thead th {\n",
       "        text-align: right;\n",
       "    }\n",
       "</style>\n",
       "<table border=\"1\" class=\"dataframe\">\n",
       "  <thead>\n",
       "    <tr style=\"text-align: right;\">\n",
       "      <th>original</th>\n",
       "      <th>extreme severe side effects</th>\n",
       "      <th>mild side effects</th>\n",
       "      <th>moderate side effects</th>\n",
       "      <th>no side effects</th>\n",
       "      <th>severe side effects</th>\n",
       "    </tr>\n",
       "    <tr>\n",
       "      <th>y_predicted</th>\n",
       "      <th></th>\n",
       "      <th></th>\n",
       "      <th></th>\n",
       "      <th></th>\n",
       "      <th></th>\n",
       "    </tr>\n",
       "  </thead>\n",
       "  <tbody>\n",
       "    <tr>\n",
       "      <th>extreme severe side effects</th>\n",
       "      <td>46</td>\n",
       "      <td>7</td>\n",
       "      <td>12</td>\n",
       "      <td>3</td>\n",
       "      <td>15</td>\n",
       "    </tr>\n",
       "    <tr>\n",
       "      <th>mild side effects</th>\n",
       "      <td>1</td>\n",
       "      <td>48</td>\n",
       "      <td>18</td>\n",
       "      <td>11</td>\n",
       "      <td>1</td>\n",
       "    </tr>\n",
       "    <tr>\n",
       "      <th>moderate side effects</th>\n",
       "      <td>4</td>\n",
       "      <td>17</td>\n",
       "      <td>47</td>\n",
       "      <td>8</td>\n",
       "      <td>9</td>\n",
       "    </tr>\n",
       "    <tr>\n",
       "      <th>no side effects</th>\n",
       "      <td>1</td>\n",
       "      <td>22</td>\n",
       "      <td>1</td>\n",
       "      <td>93</td>\n",
       "      <td>1</td>\n",
       "    </tr>\n",
       "    <tr>\n",
       "      <th>severe side effects</th>\n",
       "      <td>2</td>\n",
       "      <td>1</td>\n",
       "      <td>3</td>\n",
       "      <td>0</td>\n",
       "      <td>6</td>\n",
       "    </tr>\n",
       "  </tbody>\n",
       "</table>\n",
       "</div>"
      ],
      "text/plain": [
       "original                     extreme severe side effects  mild side effects  \\\n",
       "y_predicted                                                                   \n",
       "extreme severe side effects                           46                  7   \n",
       "mild side effects                                      1                 48   \n",
       "moderate side effects                                  4                 17   \n",
       "no side effects                                        1                 22   \n",
       "severe side effects                                    2                  1   \n",
       "\n",
       "original                     moderate side effects  no side effects  \\\n",
       "y_predicted                                                           \n",
       "extreme severe side effects                     12                3   \n",
       "mild side effects                               18               11   \n",
       "moderate side effects                           47                8   \n",
       "no side effects                                  1               93   \n",
       "severe side effects                              3                0   \n",
       "\n",
       "original                     severe side effects  \n",
       "y_predicted                                       \n",
       "extreme severe side effects                   15  \n",
       "mild side effects                              1  \n",
       "moderate side effects                          9  \n",
       "no side effects                                1  \n",
       "severe side effects                            6  "
      ]
     },
     "execution_count": 247,
     "metadata": {},
     "output_type": "execute_result"
    }
   ],
   "source": [
    "pd.crosstab(df[\"y_predicted\"],df[\"original\"])"
   ]
  },
  {
   "cell_type": "markdown",
   "metadata": {},
   "source": [
    "# CONCLUSION :"
   ]
  },
  {
   "cell_type": "markdown",
   "metadata": {},
   "source": [
    "The Side effect of the drug is best modelled by Gradient Boosting without doing any scaling and standardisation. People in the age group 45-54 mostly used this drug and within that the male ratio was higher. People with the condition 'Major Depressive Disorder' consumed this drug more. Over all by comparing with race also,the male ratio is higher."
   ]
  },
  {
   "cell_type": "code",
   "execution_count": null,
   "metadata": {},
   "outputs": [],
   "source": []
  }
 ],
 "metadata": {
  "kernelspec": {
   "display_name": "Python 3",
   "language": "python",
   "name": "python3"
  },
  "language_info": {
   "codemirror_mode": {
    "name": "ipython",
    "version": 3
   },
   "file_extension": ".py",
   "mimetype": "text/x-python",
   "name": "python",
   "nbconvert_exporter": "python",
   "pygments_lexer": "ipython3",
   "version": "3.8.3"
  }
 },
 "nbformat": 4,
 "nbformat_minor": 4
}
